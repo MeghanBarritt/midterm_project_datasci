{
 "cells": [
  {
   "cell_type": "markdown",
   "metadata": {},
   "source": [
    "# EDA"
   ]
  },
  {
   "cell_type": "markdown",
   "metadata": {},
   "source": [
    "\n",
    "- The os module has a perfect method to list files in a directory.\n",
    "- Pandas json normalize could work here but is not necessary to convert the JSON data to a dataframe.\n",
    "- You may need a nested for-loop to access each sale!\n",
    "- We've put a lot of time into creating the structure of this repository, and it's a good example for future projects.  In the file functions_variables.py, there is an example function that you can import and use.  If you have any variables, functions or classes that you want to make, they can be put in the functions_variables.py file and imported into a notebook.  Note that only .py files can be imported into a notebook. If you want to import everything from a .py file, you can use the following:\n",
    "```python\n",
    "from functions_variables import *\n",
    "```\n",
    "If you just import functions_variables, then each object from the file will need to be prepended with \"functions_variables\"\\\n",
    "Using this .py file will keep your notebooks very organized and make it easier to reuse code between notebooks."
   ]
  },
  {
   "cell_type": "code",
   "execution_count": 1,
   "metadata": {},
   "outputs": [],
   "source": [
    "# (this is not an exhaustive list of libraries)\n",
    "import pandas as pd\n",
    "import numpy as np\n",
    "import os\n",
    "import json\n",
    "from pprint import pprint"
   ]
  },
  {
   "cell_type": "markdown",
   "metadata": {},
   "source": [
    "## Data Importing"
   ]
  },
  {
   "cell_type": "code",
   "execution_count": 2,
   "metadata": {},
   "outputs": [],
   "source": [
    "# # loop over all files and put them into a dataframe\n",
    "# from functions_importing import get_data\n"
   ]
  },
  {
   "cell_type": "code",
   "execution_count": 3,
   "metadata": {},
   "outputs": [],
   "source": [
    "# filepath = r\"C:\\Users\\mebar\\Documents\\LHL-DataSci\\Projects\\midterm_project_housing_prices\\Data\""
   ]
  },
  {
   "cell_type": "code",
   "execution_count": 4,
   "metadata": {},
   "outputs": [],
   "source": [
    "# raw_data = get_data(filepath)\n",
    "# raw_data.head()"
   ]
  },
  {
   "cell_type": "code",
   "execution_count": 5,
   "metadata": {},
   "outputs": [],
   "source": [
    "# raw_data.to_pickle('pickles/raw_data.pkl')"
   ]
  },
  {
   "cell_type": "code",
   "execution_count": 6,
   "metadata": {},
   "outputs": [],
   "source": [
    "raw_data = pd.read_pickle('pickles/raw_data.pkl')"
   ]
  },
  {
   "cell_type": "markdown",
   "metadata": {},
   "source": [
    "## Data Cleaning and Wrangling"
   ]
  },
  {
   "cell_type": "markdown",
   "metadata": {},
   "source": [
    "At this point, ensure that you have all sales in a dataframe.\n",
    "- Take a quick look at your data (i.e. `.info()`, `.describe()`) - what do you see?\n",
    "- Is each cell one value, or do some cells have lists?\n",
    "- What are the data types of each column?\n",
    "- Some sales may not actually include the sale price (target).  These rows should be dropped.\n",
    "- There are a lot of NA/None values.  Should these be dropped or replaced with something?\n",
    "    - You can drop rows or use various methods to fills NA's - use your best judgement for each column \n",
    "    - i.e. for some columns (like Garage), NA probably just means no Garage, so 0\n",
    "- Drop columns that aren't needed\n",
    "    - Don't keep the list price because it will be too close to the sale price. Assume we want to predict the price of houses not yet listed"
   ]
  },
  {
   "cell_type": "code",
   "execution_count": 7,
   "metadata": {},
   "outputs": [],
   "source": [
    "# from functions_importing import extract_tags"
   ]
  },
  {
   "cell_type": "code",
   "execution_count": 8,
   "metadata": {},
   "outputs": [],
   "source": [
    "# with_tags = extract_tags(raw_data)"
   ]
  },
  {
   "cell_type": "code",
   "execution_count": 9,
   "metadata": {},
   "outputs": [],
   "source": [
    "# with_tags.to_pickle('pickles/with_tags.pkl')"
   ]
  },
  {
   "cell_type": "code",
   "execution_count": 10,
   "metadata": {},
   "outputs": [],
   "source": [
    "test =raw_data.drop(['tags','products','community','lead_attributes'],axis=1)"
   ]
  },
  {
   "cell_type": "code",
   "execution_count": 11,
   "metadata": {},
   "outputs": [
    {
     "data": {
      "text/html": [
       "<div>\n",
       "<style scoped>\n",
       "    .dataframe tbody tr th:only-of-type {\n",
       "        vertical-align: middle;\n",
       "    }\n",
       "\n",
       "    .dataframe tbody tr th {\n",
       "        vertical-align: top;\n",
       "    }\n",
       "\n",
       "    .dataframe thead th {\n",
       "        text-align: right;\n",
       "    }\n",
       "</style>\n",
       "<table border=\"1\" class=\"dataframe\">\n",
       "  <thead>\n",
       "    <tr style=\"text-align: right;\">\n",
       "      <th></th>\n",
       "      <th>property_id</th>\n",
       "      <th>descrip_sold_date</th>\n",
       "    </tr>\n",
       "  </thead>\n",
       "  <tbody>\n",
       "    <tr>\n",
       "      <th>0</th>\n",
       "      <td>9074430767</td>\n",
       "      <td>2023-09-18</td>\n",
       "    </tr>\n",
       "    <tr>\n",
       "      <th>1</th>\n",
       "      <td>9424983842</td>\n",
       "      <td>2023-08-22</td>\n",
       "    </tr>\n",
       "    <tr>\n",
       "      <th>2</th>\n",
       "      <td>9479068516</td>\n",
       "      <td>2023-08-22</td>\n",
       "    </tr>\n",
       "    <tr>\n",
       "      <th>3</th>\n",
       "      <td>9879331943</td>\n",
       "      <td>2023-08-21</td>\n",
       "    </tr>\n",
       "    <tr>\n",
       "      <th>4</th>\n",
       "      <td>9521639574</td>\n",
       "      <td>2023-08-21</td>\n",
       "    </tr>\n",
       "    <tr>\n",
       "      <th>...</th>\n",
       "      <td>...</td>\n",
       "      <td>...</td>\n",
       "    </tr>\n",
       "    <tr>\n",
       "      <th>8154</th>\n",
       "      <td>4542127284</td>\n",
       "      <td>2023-07-27</td>\n",
       "    </tr>\n",
       "    <tr>\n",
       "      <th>8155</th>\n",
       "      <td>3895826397</td>\n",
       "      <td>2023-07-27</td>\n",
       "    </tr>\n",
       "    <tr>\n",
       "      <th>8156</th>\n",
       "      <td>4941005485</td>\n",
       "      <td>2023-07-24</td>\n",
       "    </tr>\n",
       "    <tr>\n",
       "      <th>8157</th>\n",
       "      <td>4306867390</td>\n",
       "      <td>2023-07-24</td>\n",
       "    </tr>\n",
       "    <tr>\n",
       "      <th>8158</th>\n",
       "      <td>3616897910</td>\n",
       "      <td>2023-07-21</td>\n",
       "    </tr>\n",
       "  </tbody>\n",
       "</table>\n",
       "<p>8159 rows × 2 columns</p>\n",
       "</div>"
      ],
      "text/plain": [
       "     property_id descrip_sold_date\n",
       "0     9074430767        2023-09-18\n",
       "1     9424983842        2023-08-22\n",
       "2     9479068516        2023-08-22\n",
       "3     9879331943        2023-08-21\n",
       "4     9521639574        2023-08-21\n",
       "...          ...               ...\n",
       "8154  4542127284        2023-07-27\n",
       "8155  3895826397        2023-07-27\n",
       "8156  4941005485        2023-07-24\n",
       "8157  4306867390        2023-07-24\n",
       "8158  3616897910        2023-07-21\n",
       "\n",
       "[8159 rows x 2 columns]"
      ]
     },
     "execution_count": 11,
     "metadata": {},
     "output_type": "execute_result"
    }
   ],
   "source": [
    "test[['property_id','descrip_sold_date']]"
   ]
  },
  {
   "cell_type": "code",
   "execution_count": 12,
   "metadata": {},
   "outputs": [
    {
     "data": {
      "text/html": [
       "<div>\n",
       "<style scoped>\n",
       "    .dataframe tbody tr th:only-of-type {\n",
       "        vertical-align: middle;\n",
       "    }\n",
       "\n",
       "    .dataframe tbody tr th {\n",
       "        vertical-align: top;\n",
       "    }\n",
       "\n",
       "    .dataframe thead th {\n",
       "        text-align: right;\n",
       "    }\n",
       "</style>\n",
       "<table border=\"1\" class=\"dataframe\">\n",
       "  <thead>\n",
       "    <tr style=\"text-align: right;\">\n",
       "      <th></th>\n",
       "      <th>property_id</th>\n",
       "      <th>descrip_sold_date</th>\n",
       "      <th>descrip_sold_price</th>\n",
       "      <th>descrip_sqft</th>\n",
       "      <th>descrip_lot_sqft</th>\n",
       "      <th>list_price</th>\n",
       "    </tr>\n",
       "  </thead>\n",
       "  <tbody>\n",
       "    <tr>\n",
       "      <th>517</th>\n",
       "      <td>1007849822</td>\n",
       "      <td>2023-12-22</td>\n",
       "      <td>625600.0</td>\n",
       "      <td>2136.0</td>\n",
       "      <td>95832.0</td>\n",
       "      <td>600000.0</td>\n",
       "    </tr>\n",
       "    <tr>\n",
       "      <th>647</th>\n",
       "      <td>1007849822</td>\n",
       "      <td>2023-12-22</td>\n",
       "      <td>625600.0</td>\n",
       "      <td>2136.0</td>\n",
       "      <td>95832.0</td>\n",
       "      <td>600000.0</td>\n",
       "    </tr>\n",
       "    <tr>\n",
       "      <th>558</th>\n",
       "      <td>1007849822</td>\n",
       "      <td>2023-12-22</td>\n",
       "      <td>625600.0</td>\n",
       "      <td>2136.0</td>\n",
       "      <td>95832.0</td>\n",
       "      <td>600000.0</td>\n",
       "    </tr>\n",
       "    <tr>\n",
       "      <th>599</th>\n",
       "      <td>1007849822</td>\n",
       "      <td>2023-12-22</td>\n",
       "      <td>625600.0</td>\n",
       "      <td>2136.0</td>\n",
       "      <td>95832.0</td>\n",
       "      <td>600000.0</td>\n",
       "    </tr>\n",
       "    <tr>\n",
       "      <th>5303</th>\n",
       "      <td>1012598554</td>\n",
       "      <td>2023-12-22</td>\n",
       "      <td>375000.0</td>\n",
       "      <td>1056.0</td>\n",
       "      <td>6534.0</td>\n",
       "      <td>375000.0</td>\n",
       "    </tr>\n",
       "    <tr>\n",
       "      <th>...</th>\n",
       "      <td>...</td>\n",
       "      <td>...</td>\n",
       "      <td>...</td>\n",
       "      <td>...</td>\n",
       "      <td>...</td>\n",
       "      <td>...</td>\n",
       "    </tr>\n",
       "    <tr>\n",
       "      <th>1817</th>\n",
       "      <td>9989497409</td>\n",
       "      <td>2024-01-09</td>\n",
       "      <td>1410000.0</td>\n",
       "      <td>5702.0</td>\n",
       "      <td>13068.0</td>\n",
       "      <td>1475000.0</td>\n",
       "    </tr>\n",
       "    <tr>\n",
       "      <th>6656</th>\n",
       "      <td>9993679106</td>\n",
       "      <td>2024-01-03</td>\n",
       "      <td>431000.0</td>\n",
       "      <td>1574.0</td>\n",
       "      <td>5000.0</td>\n",
       "      <td>524000.0</td>\n",
       "    </tr>\n",
       "    <tr>\n",
       "      <th>6575</th>\n",
       "      <td>9993679106</td>\n",
       "      <td>2024-01-03</td>\n",
       "      <td>431000.0</td>\n",
       "      <td>1574.0</td>\n",
       "      <td>5000.0</td>\n",
       "      <td>524000.0</td>\n",
       "    </tr>\n",
       "    <tr>\n",
       "      <th>6615</th>\n",
       "      <td>9993679106</td>\n",
       "      <td>2024-01-03</td>\n",
       "      <td>431000.0</td>\n",
       "      <td>1574.0</td>\n",
       "      <td>5000.0</td>\n",
       "      <td>524000.0</td>\n",
       "    </tr>\n",
       "    <tr>\n",
       "      <th>6534</th>\n",
       "      <td>9993679106</td>\n",
       "      <td>2024-01-03</td>\n",
       "      <td>431000.0</td>\n",
       "      <td>1574.0</td>\n",
       "      <td>5000.0</td>\n",
       "      <td>524000.0</td>\n",
       "    </tr>\n",
       "  </tbody>\n",
       "</table>\n",
       "<p>6364 rows × 6 columns</p>\n",
       "</div>"
      ],
      "text/plain": [
       "     property_id descrip_sold_date  descrip_sold_price  descrip_sqft  \\\n",
       "517   1007849822        2023-12-22            625600.0        2136.0   \n",
       "647   1007849822        2023-12-22            625600.0        2136.0   \n",
       "558   1007849822        2023-12-22            625600.0        2136.0   \n",
       "599   1007849822        2023-12-22            625600.0        2136.0   \n",
       "5303  1012598554        2023-12-22            375000.0        1056.0   \n",
       "...          ...               ...                 ...           ...   \n",
       "1817  9989497409        2024-01-09           1410000.0        5702.0   \n",
       "6656  9993679106        2024-01-03            431000.0        1574.0   \n",
       "6575  9993679106        2024-01-03            431000.0        1574.0   \n",
       "6615  9993679106        2024-01-03            431000.0        1574.0   \n",
       "6534  9993679106        2024-01-03            431000.0        1574.0   \n",
       "\n",
       "      descrip_lot_sqft  list_price  \n",
       "517            95832.0    600000.0  \n",
       "647            95832.0    600000.0  \n",
       "558            95832.0    600000.0  \n",
       "599            95832.0    600000.0  \n",
       "5303            6534.0    375000.0  \n",
       "...                ...         ...  \n",
       "1817           13068.0   1475000.0  \n",
       "6656            5000.0    524000.0  \n",
       "6575            5000.0    524000.0  \n",
       "6615            5000.0    524000.0  \n",
       "6534            5000.0    524000.0  \n",
       "\n",
       "[6364 rows x 6 columns]"
      ]
     },
     "execution_count": 12,
     "metadata": {},
     "output_type": "execute_result"
    }
   ],
   "source": [
    "test.loc[test.duplicated()].sort_values('property_id')[['property_id','descrip_sold_date','descrip_sold_price','descrip_sqft','descrip_lot_sqft','list_price']]"
   ]
  },
  {
   "cell_type": "markdown",
   "metadata": {},
   "source": [
    "First remove duplicates:"
   ]
  },
  {
   "cell_type": "code",
   "execution_count": 13,
   "metadata": {},
   "outputs": [
    {
     "name": "stdout",
     "output_type": "stream",
     "text": [
      "size of raw data: (8159, 194)\n",
      "size after removing duplicates: (1795, 194)\n"
     ]
    }
   ],
   "source": [
    "data_dupes = pd.read_pickle('pickles/with_tags.pkl')\n",
    "\n",
    "data = data_dupes.drop_duplicates(subset=['property_id'])\n",
    "print('size of raw data:', data_dupes.shape)\n",
    "print('size after removing duplicates:', data.shape)"
   ]
  },
  {
   "cell_type": "markdown",
   "metadata": {},
   "source": [
    "Empty columns: "
   ]
  },
  {
   "cell_type": "code",
   "execution_count": 14,
   "metadata": {},
   "outputs": [
    {
     "data": {
      "text/plain": [
       "descrip_name  descrip_baths_1qtr  flags_is_new_construction  flags_is_for_rent  flags_is_subdivision  flags_is_contingent  flags_is_pending  flags_is_plan  flags_is_coming_soon  open_houses\n",
       "True          True                True                       True               True                  True                 True              True           True                  True           1795\n",
       "Name: count, dtype: int64"
      ]
     },
     "execution_count": 14,
     "metadata": {},
     "output_type": "execute_result"
    }
   ],
   "source": [
    "data.loc[:,['descrip_name','descrip_baths_1qtr','flags_is_new_construction','flags_is_for_rent','flags_is_subdivision','flags_is_contingent',\n",
    "            'flags_is_pending','flags_is_plan','flags_is_coming_soon','open_houses']].isna().value_counts()"
   ]
  },
  {
   "cell_type": "code",
   "execution_count": 15,
   "metadata": {},
   "outputs": [],
   "source": [
    "# drop empty columns, old tags column\n",
    "data = data.drop(['descrip_name','descrip_baths_1qtr','flags_is_new_construction','flags_is_for_rent','flags_is_subdivision','flags_is_contingent',\n",
    "            'flags_is_pending','flags_is_plan','flags_is_coming_soon','open_houses',],axis=1)"
   ]
  },
  {
   "cell_type": "markdown",
   "metadata": {},
   "source": [
    "'community', 'flags_is_foreclosure', 'courtyard_entry', 'well_water' and 'open_house' are basically empty; flags_is_new_listing and status have all the same value, so drop them as well."
   ]
  },
  {
   "cell_type": "code",
   "execution_count": 16,
   "metadata": {},
   "outputs": [
    {
     "name": "stdout",
     "output_type": "stream",
     "text": [
      "community: rows with data: 1\n"
     ]
    },
    {
     "data": {
      "text/plain": [
       "flags_is_new_listing\n",
       "False    1704\n",
       "Name: count, dtype: int64"
      ]
     },
     "execution_count": 16,
     "metadata": {},
     "output_type": "execute_result"
    }
   ],
   "source": [
    "print('community: rows with data:',len(data[~data['community'].isna()]))\n",
    "data['flags_is_new_listing'].value_counts()"
   ]
  },
  {
   "cell_type": "code",
   "execution_count": 17,
   "metadata": {},
   "outputs": [],
   "source": [
    "data = data.drop(['community','flags_is_foreclosure','flags_is_new_listing','status','open_house','courtyard_entry','well_water'],axis=1)"
   ]
  },
  {
   "cell_type": "markdown",
   "metadata": {},
   "source": [
    "None of these columns contain anything that's interesting for regression, so they are being dropped."
   ]
  },
  {
   "cell_type": "code",
   "execution_count": 18,
   "metadata": {},
   "outputs": [
    {
     "data": {
      "text/plain": [
       "products\n",
       "{'brand_name': 'essentials'}         1078\n",
       "{'brand_name': 'basic_opt_in'}        477\n",
       "{'brand_name': 'advantage_brand'}     130\n",
       "{'brand_name': 'advantage_pro'}         2\n",
       "Name: count, dtype: int64"
      ]
     },
     "metadata": {},
     "output_type": "display_data"
    },
    {
     "data": {
      "text/plain": [
       "lead_attributes\n",
       "{'show_contact_an_agent': True}     1775\n",
       "{'show_contact_an_agent': False}      20\n",
       "Name: count, dtype: int64"
      ]
     },
     "metadata": {},
     "output_type": "display_data"
    }
   ],
   "source": [
    "display(data['products'].value_counts())\n",
    "display(data['lead_attributes'].value_counts())"
   ]
  },
  {
   "cell_type": "code",
   "execution_count": 19,
   "metadata": {},
   "outputs": [],
   "source": [
    "data = data.drop(['products','lead_attributes'],axis=1)"
   ]
  },
  {
   "cell_type": "markdown",
   "metadata": {},
   "source": [
    "There's a missing value in the cities column, for a farm/ranch. Which means that 'none' is probably valid, so we're imputing it as a string instead of a NoneType."
   ]
  },
  {
   "cell_type": "code",
   "execution_count": 20,
   "metadata": {},
   "outputs": [
    {
     "data": {
      "text/html": [
       "<div>\n",
       "<style scoped>\n",
       "    .dataframe tbody tr th:only-of-type {\n",
       "        vertical-align: middle;\n",
       "    }\n",
       "\n",
       "    .dataframe tbody tr th {\n",
       "        vertical-align: top;\n",
       "    }\n",
       "\n",
       "    .dataframe thead th {\n",
       "        text-align: right;\n",
       "    }\n",
       "</style>\n",
       "<table border=\"1\" class=\"dataframe\">\n",
       "  <thead>\n",
       "    <tr style=\"text-align: right;\">\n",
       "      <th></th>\n",
       "      <th>location_state</th>\n",
       "      <th>location_city</th>\n",
       "      <th>ranch</th>\n",
       "      <th>farm</th>\n",
       "    </tr>\n",
       "  </thead>\n",
       "  <tbody>\n",
       "    <tr>\n",
       "      <th>5624</th>\n",
       "      <td>Ohio</td>\n",
       "      <td>None</td>\n",
       "      <td>1.0</td>\n",
       "      <td>1.0</td>\n",
       "    </tr>\n",
       "  </tbody>\n",
       "</table>\n",
       "</div>"
      ],
      "text/plain": [
       "     location_state location_city  ranch  farm\n",
       "5624           Ohio          None    1.0   1.0"
      ]
     },
     "execution_count": 20,
     "metadata": {},
     "output_type": "execute_result"
    }
   ],
   "source": [
    "data[data['location_city'].isna()][['location_state','location_city','ranch','farm']]"
   ]
  },
  {
   "cell_type": "code",
   "execution_count": 21,
   "metadata": {},
   "outputs": [],
   "source": [
    "# filling \n",
    "data['location_city'] = data['location_city'].fillna('None')\n",
    "\n",
    "# dropping farm and ranch, as we aren't using them\n",
    "data = data.drop(['farm','ranch'],axis=1)"
   ]
  },
  {
   "cell_type": "markdown",
   "metadata": {},
   "source": [
    "Given the above statement that the list price is too close to the sold price, it can be used to fill in missing values in the sold price column."
   ]
  },
  {
   "cell_type": "code",
   "execution_count": 22,
   "metadata": {},
   "outputs": [
    {
     "name": "stdout",
     "output_type": "stream",
     "text": [
      "missing values in \"sold price\": 320\n"
     ]
    }
   ],
   "source": [
    "print('missing values in \"sold price\":',len(data[data['descrip_sold_price'].isna()]))"
   ]
  },
  {
   "cell_type": "code",
   "execution_count": 23,
   "metadata": {},
   "outputs": [],
   "source": [
    "data['descrip_sold_price'] = data['descrip_sold_price'].fillna(data['list_price'])"
   ]
  },
  {
   "cell_type": "markdown",
   "metadata": {},
   "source": [
    "However, rows with no price info at all will need to be dropped, and we can now drop list_price."
   ]
  },
  {
   "cell_type": "code",
   "execution_count": 24,
   "metadata": {},
   "outputs": [
    {
     "name": "stdout",
     "output_type": "stream",
     "text": [
      "no price info: 35\n"
     ]
    }
   ],
   "source": [
    "print('no price info:',len(data[(data['descrip_sold_price'].isna()) & (data['list_price'].isna())]))"
   ]
  },
  {
   "cell_type": "code",
   "execution_count": 25,
   "metadata": {},
   "outputs": [],
   "source": [
    "# drop rows that still have NaNs \n",
    "data = data.dropna(subset=['descrip_sold_price']).drop('list_price',axis=1)"
   ]
  },
  {
   "cell_type": "markdown",
   "metadata": {},
   "source": [
    "We don't think we are going to be using the price reduction data, and flags_is_price_reduced is broken, showing True _and_ False with numeric values in the price_reduced_amount column, so those columns are being dropped. Database internal IDs are not needed. The list date is redundant to the sold date, so it is being dropped. "
   ]
  },
  {
   "cell_type": "code",
   "execution_count": 26,
   "metadata": {},
   "outputs": [],
   "source": [
    "data = data.drop(['price_reduced_amount','flags_is_price_reduced','property_id','listing_id','list_date'],axis=1)"
   ]
  },
  {
   "cell_type": "markdown",
   "metadata": {},
   "source": [
    "The hoa tags also have issues, and are mostly empty, so they are being dropped. "
   ]
  },
  {
   "cell_type": "code",
   "execution_count": 27,
   "metadata": {},
   "outputs": [
    {
     "name": "stdout",
     "output_type": "stream",
     "text": [
      "has any hoa tag: 64\n",
      "yes hoa AND no hoa: 3\n"
     ]
    }
   ],
   "source": [
    "print('has any hoa tag:',len(data[(data['hoa']>0)|(data['low_hoa']>0)|(data['no_hoa']>0)]))\n",
    "print('yes hoa AND no hoa:',len(data[(data['hoa']>0) & (data['no_hoa']>0)]))"
   ]
  },
  {
   "cell_type": "code",
   "execution_count": 28,
   "metadata": {},
   "outputs": [],
   "source": [
    "data = data.drop(['hoa','low_hoa','no_hoa'],axis=1)"
   ]
  },
  {
   "cell_type": "markdown",
   "metadata": {},
   "source": [
    "It is unclear what the floor_plan tag is related to, as all buildings by definition have a floor plan. Given that this tag is apparently optional it cannot be used to draw any conclusions. The open_floor_plan tag only occurs alongside the floor_plan tag, but also probably can't be used to draw conclusions, given the many missing values. A lack of open floor plan tag doesn't necessarily mean the property _isn't_ open plan. We are dropping those columns."
   ]
  },
  {
   "cell_type": "code",
   "execution_count": 29,
   "metadata": {},
   "outputs": [
    {
     "name": "stdout",
     "output_type": "stream",
     "text": [
      "floor plan: 233\n",
      "open + floor: 133\n"
     ]
    }
   ],
   "source": [
    "print('floor plan:',len(data[data['floor_plan']>0]))\n",
    "print('open + floor:',len(data[(data['open_floor_plan']>0) & (data['floor_plan']>0)]))"
   ]
  },
  {
   "cell_type": "code",
   "execution_count": 30,
   "metadata": {},
   "outputs": [],
   "source": [
    "data = data.drop(['floor_plan','open_floor_plan'],axis=1)"
   ]
  },
  {
   "cell_type": "markdown",
   "metadata": {},
   "source": [
    "We have decided we are not going to work with the tags dealing with tags related to features of the surrounding area unless we have time left over, so those are going to be dropped for now."
   ]
  },
  {
   "cell_type": "code",
   "execution_count": 31,
   "metadata": {},
   "outputs": [],
   "source": [
    "skipped_feat = ['community_outdoor_space','recreation_facilities','rv_or_boat_parking','trails','shopping','waterfront','beach',\n",
    "'spa_or_hot_tub','horse_facilities','pond','swimming_pool','wooded_land','community_swimming_pool','tennis_court',\n",
    "'tennis','community_park','clubhouse','park','library','community_center','community_golf','community_tennis_court',\n",
    "'community_clubhouse','playground','lake','golf_course','volleyball','rv_parking','river_access','basketball_court',\n",
    "'basketball','community_gym','marina','greenbelt','community_spa_or_hot_tub','community_horse_facilities','soccer',                          \n",
    "'community_boat_facilities','indoor_basketball_court','baseball','horse_stables','horse_property','equestrian',\n",
    "'boat_dock','horse_stables','horse_property','equestrian','rv_parking','rv_or_boat_parking','boat_dock',\n",
    "'community_elevator','elevator','outbuilding','detached_guest_house','guest_house','hill_or_mountain_view','ocean_view',\n",
    "'city_view','lake_view','river_view','water_view','view','mountain_view','views','golf_course_view','fruit_trees','greenhouse',\n",
    "'senior_community','groundscare','maintenance','gated_community','community_security_features','medicalcare',\n",
    "'disability_features','handicap_access','big_lot','corner_lot','golf_course_lot_or_frontage','big_yard','efficient',\n",
    "'energy_efficient','beautiful_backyard','fixer_upper','investment_opportunity',\n",
    "]"
   ]
  },
  {
   "cell_type": "code",
   "execution_count": 32,
   "metadata": {},
   "outputs": [],
   "source": [
    "data = data.drop(skipped_feat,axis=1)"
   ]
  },
  {
   "cell_type": "markdown",
   "metadata": {},
   "source": [
    "Given the output below, it looks like 'subtype' and 'type' are reversed, so we have decided to group properties first based on 'subtype' and then by type. This will eliminate the tiny categories. "
   ]
  },
  {
   "cell_type": "code",
   "execution_count": 33,
   "metadata": {},
   "outputs": [
    {
     "data": {
      "text/plain": [
       "descrip_type                 descrip_sub_type\n",
       "condos                       condo               182\n",
       "townhomes                    townhouse           124\n",
       "apartment                    condo                 4\n",
       "condo_townhome_rowhome_coop  townhouse             1\n",
       "duplex_triplex               townhouse             1\n",
       "Name: count, dtype: int64"
      ]
     },
     "metadata": {},
     "output_type": "display_data"
    },
    {
     "data": {
      "text/plain": [
       "descrip_type\n",
       "single_family                  1188\n",
       "condos                          182\n",
       "townhomes                       124\n",
       "multi_family                    118\n",
       "land                             82\n",
       "mobile                           43\n",
       "condo                            11\n",
       "apartment                         4\n",
       "other                             2\n",
       "duplex_triplex                    1\n",
       "condo_townhome_rowhome_coop       1\n",
       "Name: count, dtype: int64"
      ]
     },
     "metadata": {},
     "output_type": "display_data"
    }
   ],
   "source": [
    "display(data[['descrip_type','descrip_sub_type']].value_counts())\n",
    "display(data['descrip_type'].value_counts())"
   ]
  },
  {
   "cell_type": "markdown",
   "metadata": {},
   "source": [
    "We are also going to combine 'condos' into the rest of the 'condo' category because that seems like an error. Anything without a value already is going to be assigned other/unknown, as other is the smallest category and there are very few blank values. "
   ]
  },
  {
   "cell_type": "code",
   "execution_count": 34,
   "metadata": {},
   "outputs": [],
   "source": [
    "# create new column\n",
    "data['property_type'] = 'other_unknown'\n",
    "\n",
    "# assigning values to the new column based on the relevant type column\n",
    "# -> based on type:\n",
    "data.loc[data['descrip_type']=='single_family','property_type'] = 'single_family'\n",
    "data.loc[data['descrip_type']=='multi_family','property_type'] = 'multi_family'\n",
    "data.loc[data['descrip_type']=='land','property_type'] = 'land'\n",
    "data.loc[data['descrip_type']=='mobile','property_type'] = 'mobile'\n",
    "data.loc[data['descrip_type']=='condo','property_type'] = 'condo'\n",
    "data.loc[data['descrip_type']=='other','property_type'] = 'other_unknown'\n",
    "\n",
    "# -> based on subtype:\n",
    "data.loc[data['descrip_sub_type']=='condo','property_type'] = 'condo'\n",
    "data.loc[data['descrip_sub_type']=='townhouse','property_type'] = 'townhouse'\n",
    "\n",
    "# drop old columns\n",
    "data = data.drop(['descrip_type','descrip_sub_type'],axis=1)"
   ]
  },
  {
   "cell_type": "code",
   "execution_count": 35,
   "metadata": {},
   "outputs": [
    {
     "data": {
      "text/plain": [
       "property_type\n",
       "single_family    1188\n",
       "condo             197\n",
       "townhouse         126\n",
       "multi_family      118\n",
       "land               82\n",
       "mobile             43\n",
       "other_unknown       6\n",
       "Name: count, dtype: int64"
      ]
     },
     "execution_count": 35,
     "metadata": {},
     "output_type": "execute_result"
    }
   ],
   "source": [
    "data['property_type'].value_counts()"
   ]
  },
  {
   "cell_type": "markdown",
   "metadata": {},
   "source": [
    "In order to use the categories with a model, it needs to be in a numberical form, so the new column needs to be OneHotEncoded. "
   ]
  },
  {
   "cell_type": "code",
   "execution_count": 36,
   "metadata": {},
   "outputs": [],
   "source": [
    "from sklearn.preprocessing import OneHotEncoder"
   ]
  },
  {
   "cell_type": "code",
   "execution_count": 37,
   "metadata": {},
   "outputs": [],
   "source": [
    "# create dataframe with names of each category \n",
    "hotspec = OneHotEncoder(sparse_output=False,min_frequency=5)\n",
    "type_encode  = pd.DataFrame(data=(hotspec.fit_transform(data[['property_type']])),\n",
    "             columns=(hotspec.get_feature_names_out()))\n",
    "\n",
    "# reset main index so the merge works properly\n",
    "data = data.reset_index().drop('index',axis=1)\n",
    "\n",
    "# merge new columns onto the main table\n",
    "data = pd.concat([data,type_encode],axis=1)"
   ]
  },
  {
   "cell_type": "code",
   "execution_count": 38,
   "metadata": {},
   "outputs": [
    {
     "data": {
      "text/plain": [
       "Index(['property_type_condo', 'property_type_land', 'property_type_mobile',\n",
       "       'property_type_multi_family', 'property_type_other_unknown',\n",
       "       'property_type_single_family', 'property_type_townhouse'],\n",
       "      dtype='object')"
      ]
     },
     "execution_count": 38,
     "metadata": {},
     "output_type": "execute_result"
    }
   ],
   "source": [
    "type_encode.keys()"
   ]
  },
  {
   "cell_type": "markdown",
   "metadata": {},
   "source": [
    "I use the property_type column later, so it needs to stay for now.<p>\n",
    "Where the descrip_stories column is empty we can fill some of them in with the single_story or two_or_more_stories tags. "
   ]
  },
  {
   "cell_type": "code",
   "execution_count": 39,
   "metadata": {},
   "outputs": [
    {
     "name": "stdout",
     "output_type": "stream",
     "text": [
      "single story tag, no descrip: 27\n",
      "2+ tag, no descrip: 37\n",
      "none of them: 333\n"
     ]
    },
    {
     "data": {
      "text/plain": [
       "descrip_stories\n",
       "1.0     716\n",
       "2.0     541\n",
       "3.0      92\n",
       "4.0       7\n",
       "6.0       4\n",
       "10.0      2\n",
       "8.0       1\n",
       "Name: count, dtype: int64"
      ]
     },
     "metadata": {},
     "output_type": "display_data"
    }
   ],
   "source": [
    "print('single story tag, no descrip:',len(data[(data['descrip_stories'].isna())&(data['two_or_more_stories'].isna())&(data['single_story']>0)]))\n",
    "print('2+ tag, no descrip:',len(data[(data['descrip_stories'].isna())&(data['two_or_more_stories']>0)&(data['single_story'].isna())]))\n",
    "print('none of them:',len(data[(data['descrip_stories'].isna())&(data['two_or_more_stories'].isna())&(data['single_story'].isna())]))\n",
    "display(data['descrip_stories'].value_counts())"
   ]
  },
  {
   "cell_type": "markdown",
   "metadata": {},
   "source": [
    "While not perfect, most multistory homes are two stories (84%), so it's reasonably likely that would be the number. <p>\n",
    "Missing values for descrip stories will be filled with:<br>\n",
    "1 for available single story tag<br>\n",
    "2 for available two or more tag<br>\n",
    "0 for missing all of them"
   ]
  },
  {
   "cell_type": "code",
   "execution_count": 40,
   "metadata": {},
   "outputs": [],
   "source": [
    "# fill empty values with 0\n",
    "data.loc[:,'descrip_stories'] = data['descrip_stories'].fillna(0)\n",
    "\n",
    "# fill 1 for single story using list of indexes\n",
    "data.loc[((data[(data['descrip_stories']==0)&   # where descrip is empty and\n",
    "                (data['single_story']>0)        # single story is valid\n",
    "                ].index).tolist()),'descrip_stories'] = 1\n",
    "\n",
    "# # fill 2 for multistory using list of indexes\n",
    "data.loc[((data[(data['descrip_stories']==0)&   # where descrip is empty and\n",
    "                (data['two_or_more_stories']>0) # multistory is valid\n",
    "                ].index).tolist()),'descrip_stories'] = 2\n",
    "\n",
    "# drop redundant columns\n",
    "data = data.drop(['single_story','two_or_more_stories'],axis=1)"
   ]
  },
  {
   "cell_type": "code",
   "execution_count": 41,
   "metadata": {},
   "outputs": [],
   "source": [
    "import matplotlib\n",
    "import matplotlib.pyplot as plt"
   ]
  },
  {
   "cell_type": "markdown",
   "metadata": {},
   "source": [
    "Based on the output of these graphs - "
   ]
  },
  {
   "cell_type": "code",
   "execution_count": 42,
   "metadata": {},
   "outputs": [
    {
     "data": {
      "text/plain": [
       "Text(0.5, 1.0, 'home size')"
      ]
     },
     "execution_count": 42,
     "metadata": {},
     "output_type": "execute_result"
    },
    {
     "data": {
      "image/png": "[encoded data removed]",
      "text/plain": [
       "<Figure size 700x500 with 2 Axes>"
      ]
     },
     "metadata": {},
     "output_type": "display_data"
    }
   ],
   "source": [
    "a = data['descrip_sold_price']\n",
    "b = data['descrip_sqft']\n",
    "d = data['descrip_lot_sqft']\n",
    "\n",
    "plt.figure(figsize=(7,5))\n",
    "plt.subplot(1,2,1)\n",
    "plt.scatter(d,a,color='blue')\n",
    "plt.title('lot size')\n",
    "plt.ylabel('sold price')\n",
    "\n",
    "plt.subplot(1,2,2)\n",
    "plt.scatter(b,a,color='red')\n",
    "plt.title('home size')"
   ]
  },
  {
   "cell_type": "markdown",
   "metadata": {},
   "source": [
    "-we know we have some crazy outliers that need to be dealt with before we can do any imputing later on, so this has gotten moved up here. Those three outliers may be valid, but they are skewing the data, so we are removing them. "
   ]
  },
  {
   "cell_type": "code",
   "execution_count": 43,
   "metadata": {},
   "outputs": [],
   "source": [
    "data = data.drop((data[data['descrip_sold_price']>12000000]).index)\n",
    "data = data.drop((data[data['descrip_sqft']>30000]).index)\n",
    "data = data.drop((data[data['descrip_lot_sqft']>130000000]).index)"
   ]
  },
  {
   "cell_type": "code",
   "execution_count": 44,
   "metadata": {},
   "outputs": [
    {
     "data": {
      "text/plain": [
       "Text(0.5, 1.0, 'home size')"
      ]
     },
     "execution_count": 44,
     "metadata": {},
     "output_type": "execute_result"
    },
    {
     "data": {
      "image/png": "[encoded data removed]",
      "text/plain": [
       "<Figure size 700x500 with 2 Axes>"
      ]
     },
     "metadata": {},
     "output_type": "display_data"
    }
   ],
   "source": [
    "a = data['descrip_sold_price']\n",
    "b = data['descrip_sqft']\n",
    "d = data['descrip_lot_sqft']\n",
    "\n",
    "plt.figure(figsize=(7,5))\n",
    "plt.subplot(1,2,1)\n",
    "plt.scatter(d,a,color='blue')\n",
    "plt.title('lot size')\n",
    "plt.ylabel('sold price')\n",
    "\n",
    "plt.subplot(1,2,2)\n",
    "plt.scatter(b,a,color='red')\n",
    "plt.title('home size')"
   ]
  },
  {
   "cell_type": "markdown",
   "metadata": {},
   "source": [
    "## Read Me<p>\n",
    "These are the parameters for getting the pretty graphs, but if we are dropping duplicates I don't know if we want to do this much messing around. (I did it on a side table just to see, so you can run this without breaking things to see if you want)"
   ]
  },
  {
   "cell_type": "code",
   "execution_count": 45,
   "metadata": {},
   "outputs": [],
   "source": [
    "# test = data.copy()\n",
    "# test=test.drop((test[test['descrip_sold_price']>5000000]).index)\n",
    "# test=test.drop((test[test['descrip_lot_sqft']>2000000]).index)\n",
    "# test=test.drop((test[test['descrip_sqft']>30000]).index)"
   ]
  },
  {
   "cell_type": "markdown",
   "metadata": {},
   "source": [
    "### Dealing with Tags"
   ]
  },
  {
   "cell_type": "markdown",
   "metadata": {},
   "source": [
    "Consider the fact that with tags, there are a lot of categorical variables.\n",
    "- How many columns would we have if we OHE tags, city and state?\n",
    "- Perhaps we can get rid of tags that have a low frequency."
   ]
  },
  {
   "cell_type": "markdown",
   "metadata": {},
   "source": [
    "_(could not use .loc to only fillna the expanded tags columns, so those are going to have to be applied case by case.)_"
   ]
  },
  {
   "cell_type": "markdown",
   "metadata": {},
   "source": [
    "Garage tags are cumulative; anything with a garage_3_or_more tag will also have a garage_1_or_more and garage_2_or_more. These seem to be refering to the total car capacity, as the descrip_garage column can be more than 3, but if the garage_3_or_more tag is present it will be at **least** 3. Some properties with garage_n_or_more tags have blank descrip_garage values, so that should be filled in and used as the only garage column."
   ]
  },
  {
   "cell_type": "code",
   "execution_count": 46,
   "metadata": {},
   "outputs": [
    {
     "data": {
      "text/html": [
       "<div>\n",
       "<style scoped>\n",
       "    .dataframe tbody tr th:only-of-type {\n",
       "        vertical-align: middle;\n",
       "    }\n",
       "\n",
       "    .dataframe tbody tr th {\n",
       "        vertical-align: top;\n",
       "    }\n",
       "\n",
       "    .dataframe thead th {\n",
       "        text-align: right;\n",
       "    }\n",
       "</style>\n",
       "<table border=\"1\" class=\"dataframe\">\n",
       "  <thead>\n",
       "    <tr style=\"text-align: right;\">\n",
       "      <th></th>\n",
       "      <th>garage_1_or_more</th>\n",
       "      <th>garage_2_or_more</th>\n",
       "      <th>garage_3_or_more</th>\n",
       "      <th>descrip_garage</th>\n",
       "    </tr>\n",
       "  </thead>\n",
       "  <tbody>\n",
       "    <tr>\n",
       "      <th>0</th>\n",
       "      <td>1.0</td>\n",
       "      <td>NaN</td>\n",
       "      <td>NaN</td>\n",
       "      <td>1.0</td>\n",
       "    </tr>\n",
       "    <tr>\n",
       "      <th>6</th>\n",
       "      <td>NaN</td>\n",
       "      <td>NaN</td>\n",
       "      <td>NaN</td>\n",
       "      <td>NaN</td>\n",
       "    </tr>\n",
       "    <tr>\n",
       "      <th>244</th>\n",
       "      <td>1.0</td>\n",
       "      <td>1.0</td>\n",
       "      <td>1.0</td>\n",
       "      <td>3.0</td>\n",
       "    </tr>\n",
       "    <tr>\n",
       "      <th>468</th>\n",
       "      <td>1.0</td>\n",
       "      <td>1.0</td>\n",
       "      <td>1.0</td>\n",
       "      <td>6.0</td>\n",
       "    </tr>\n",
       "  </tbody>\n",
       "</table>\n",
       "</div>"
      ],
      "text/plain": [
       "     garage_1_or_more  garage_2_or_more  garage_3_or_more  descrip_garage\n",
       "0                 1.0               NaN               NaN             1.0\n",
       "6                 NaN               NaN               NaN             NaN\n",
       "244               1.0               1.0               1.0             3.0\n",
       "468               1.0               1.0               1.0             6.0"
      ]
     },
     "metadata": {},
     "output_type": "display_data"
    },
    {
     "name": "stdout",
     "output_type": "stream",
     "text": [
      "only descrip filled in: 6\n",
      "missing descrip: 75\n",
      "inside the rows missing descrip:\n"
     ]
    },
    {
     "data": {
      "text/plain": [
       "garage_1_or_more    75.0\n",
       "garage_2_or_more     0.0\n",
       "garage_3_or_more     0.0\n",
       "dtype: float64"
      ]
     },
     "metadata": {},
     "output_type": "display_data"
    }
   ],
   "source": [
    "display(data.loc[[0,6,244,468],['garage_1_or_more','garage_2_or_more','garage_3_or_more','descrip_garage']])\n",
    "\n",
    "print('only descrip filled in:',len(data[(data['garage_1_or_more'].isna())&(data['garage_2_or_more'].isna())&\n",
    "                                         (data['garage_3_or_more'].isna())&(data['descrip_garage']>0)]))\n",
    "print('missing descrip:',len(data[(data['descrip_garage'].isna())&((data['garage_1_or_more']>0)|(data['garage_2_or_more']>0)|(data['garage_3_or_more']>0))]))\n",
    "\n",
    "print('inside the rows missing descrip:')\n",
    "display(data[((data['garage_1_or_more']>0)|(data['garage_2_or_more']>0)|(data['garage_3_or_more']>0))&(data['descrip_garage'].isna())][['garage_1_or_more','garage_2_or_more','garage_3_or_more']].sum())"
   ]
  },
  {
   "cell_type": "markdown",
   "metadata": {},
   "source": [
    "Since all the rows with an empty descrip_garage value only have garage_1 tags, fill descip_garage with 1 for those rows. "
   ]
  },
  {
   "cell_type": "code",
   "execution_count": 47,
   "metadata": {},
   "outputs": [],
   "source": [
    "# fillna(0) the relevant columns\n",
    "data.loc[:,'garage_1_or_more'] = data['garage_1_or_more'].fillna(0)\n",
    "data.loc[:,'descrip_garage'] = data['descrip_garage'].fillna(0)\n",
    "\n",
    "# using list of indexes to select rows to fill\n",
    "data.loc[((data[(data['descrip_garage']==0.0)&  # nothing in descrip column and\n",
    "                (data['garage_1_or_more']>0     # valid value in garage_1 column\n",
    "                 )].index).tolist()),'descrip_garage'] = 1"
   ]
  },
  {
   "cell_type": "markdown",
   "metadata": {},
   "source": [
    "carport and private_parking do not count as garages, as shown below, but they are still parking spaces assigned to the owner of the property specifically, which can be very important inside a city. "
   ]
  },
  {
   "cell_type": "code",
   "execution_count": 48,
   "metadata": {},
   "outputs": [
    {
     "data": {
      "text/html": [
       "<div>\n",
       "<style scoped>\n",
       "    .dataframe tbody tr th:only-of-type {\n",
       "        vertical-align: middle;\n",
       "    }\n",
       "\n",
       "    .dataframe tbody tr th {\n",
       "        vertical-align: top;\n",
       "    }\n",
       "\n",
       "    .dataframe thead th {\n",
       "        text-align: right;\n",
       "    }\n",
       "</style>\n",
       "<table border=\"1\" class=\"dataframe\">\n",
       "  <thead>\n",
       "    <tr style=\"text-align: right;\">\n",
       "      <th></th>\n",
       "      <th>descrip_garage</th>\n",
       "      <th>carport</th>\n",
       "      <th>garage_2_or_more</th>\n",
       "    </tr>\n",
       "  </thead>\n",
       "  <tbody>\n",
       "    <tr>\n",
       "      <th>24</th>\n",
       "      <td>2.0</td>\n",
       "      <td>1.0</td>\n",
       "      <td>1.0</td>\n",
       "    </tr>\n",
       "  </tbody>\n",
       "</table>\n",
       "</div>"
      ],
      "text/plain": [
       "    descrip_garage  carport  garage_2_or_more\n",
       "24             2.0      1.0               1.0"
      ]
     },
     "metadata": {},
     "output_type": "display_data"
    },
    {
     "data": {
      "text/html": [
       "<div>\n",
       "<style scoped>\n",
       "    .dataframe tbody tr th:only-of-type {\n",
       "        vertical-align: middle;\n",
       "    }\n",
       "\n",
       "    .dataframe tbody tr th {\n",
       "        vertical-align: top;\n",
       "    }\n",
       "\n",
       "    .dataframe thead th {\n",
       "        text-align: right;\n",
       "    }\n",
       "</style>\n",
       "<table border=\"1\" class=\"dataframe\">\n",
       "  <thead>\n",
       "    <tr style=\"text-align: right;\">\n",
       "      <th></th>\n",
       "      <th>descrip_garage</th>\n",
       "      <th>private_parking</th>\n",
       "    </tr>\n",
       "  </thead>\n",
       "  <tbody>\n",
       "    <tr>\n",
       "      <th>1353</th>\n",
       "      <td>0.0</td>\n",
       "      <td>1.0</td>\n",
       "    </tr>\n",
       "  </tbody>\n",
       "</table>\n",
       "</div>"
      ],
      "text/plain": [
       "      descrip_garage  private_parking\n",
       "1353             0.0              1.0"
      ]
     },
     "metadata": {},
     "output_type": "display_data"
    }
   ],
   "source": [
    "display(data[                   \n",
    "    (data['garage_2_or_more']==1.0)&   # two car garage and\n",
    "    (data['carport']==1.0)              # has a carport\n",
    "    ][['descrip_garage','carport','garage_2_or_more']].head(1))\n",
    "\n",
    "display(data[\n",
    "    (data['descrip_garage']==0.0)&   # no garage space\n",
    "    (data['private_parking']==1.0)   # has priavate parking\n",
    "    ][['descrip_garage','private_parking']].head(1))"
   ]
  },
  {
   "cell_type": "markdown",
   "metadata": {},
   "source": [
    "We can make a has_parking column with binary 0/1 for whether a property is marked as having any amount of garage space, a carport, and/or private parking. "
   ]
  },
  {
   "cell_type": "code",
   "execution_count": 49,
   "metadata": {},
   "outputs": [],
   "source": [
    "# create new column, default value 0\n",
    "data['has_parking'] = 0.0\n",
    "\n",
    "# assign 1s in the appropriate rows using list of indexes\n",
    "data.loc[((data[\n",
    "    (data['carport']==1.0)|         # has a carport or\n",
    "    (data['private_parking']==1.0)| # has private parking or\n",
    "    (data['descrip_garage']>0)      # has any size garage(s) \n",
    "    ].index).tolist()),'has_parking'] = 1.0"
   ]
  },
  {
   "cell_type": "code",
   "execution_count": 50,
   "metadata": {},
   "outputs": [],
   "source": [
    "# drop the now redundant columns, rename the updated one\n",
    "data = data.drop(['garage_1_or_more','garage_2_or_more','garage_3_or_more','carport','private_parking'],axis=1)\n",
    "data = data.rename(columns={'descrip_garage': 'garage_car_spaces'})"
   ]
  },
  {
   "cell_type": "markdown",
   "metadata": {},
   "source": [
    "According to Google, forced air and central heat are both types of heating, just with slightly different mechanisms, so those can be combined into one column 'heating' and then dropped."
   ]
  },
  {
   "cell_type": "code",
   "execution_count": 51,
   "metadata": {},
   "outputs": [
    {
     "name": "stdout",
     "output_type": "stream",
     "text": [
      "properties with either forced air or central heat:\n",
      "1009\n"
     ]
    }
   ],
   "source": [
    "print('properties with either forced air or central heat:')\n",
    "print(len(data[(data['forced_air']>0) | (data['central_heat']>0)]))"
   ]
  },
  {
   "cell_type": "code",
   "execution_count": 52,
   "metadata": {},
   "outputs": [],
   "source": [
    "# fillna(0) the relevant columns\n",
    "data.loc[:,'central_heat'] = data['central_heat'].fillna(0)\n",
    "data.loc[:,'forced_air'] = data['forced_air'].fillna(0)\n",
    "\n",
    "# create heating column, default value 0\n",
    "data['heating'] = 0.0\n",
    "\n",
    "# assign the rows with those tags a 1 using list index\n",
    "data.loc[((data[(data['central_heat']>0)|   # valid value for central heat or\n",
    "                (data['forced_air']>0)      # valid value for forced air\n",
    "                ].index).tolist()),'heating'] = 1.0\n",
    "\n",
    "#drop old columns\n",
    "data = data.drop(['central_heat','forced_air'],axis=1)"
   ]
  },
  {
   "cell_type": "markdown",
   "metadata": {},
   "source": [
    "solar_panels is completely redundant with solar_system and never occurs on its own; renaming solar_system 'solar_power' and dropping solar_panel. "
   ]
  },
  {
   "cell_type": "code",
   "execution_count": 53,
   "metadata": {},
   "outputs": [
    {
     "name": "stdout",
     "output_type": "stream",
     "text": [
      "solar system or panels: 33\n",
      "both: 18\n",
      "only panels: 0\n"
     ]
    }
   ],
   "source": [
    "print('solar system or panels:',len(data[(data['solar_system']>0) | (data['solar_panels']>0)]))\n",
    "print('both:',len(data[(data['solar_system']>0) & (data['solar_panels']>0)]))\n",
    "print('only panels:',len(data[(data['solar_system']==0) & (data['solar_panels']>0)]))"
   ]
  },
  {
   "cell_type": "code",
   "execution_count": 54,
   "metadata": {},
   "outputs": [],
   "source": [
    "# fillna(0) the relevant column\n",
    "data.loc[:,'solar_system'] = data['solar_system'].fillna(0)\n",
    "\n",
    "data = data.rename(columns={'solar_system': 'solar_power'})\n",
    "data = data.drop('solar_panels',axis=1)"
   ]
  },
  {
   "cell_type": "markdown",
   "metadata": {},
   "source": [
    "There are four tags for porches, which are going to be combined into one 'porch' column."
   ]
  },
  {
   "cell_type": "code",
   "execution_count": 55,
   "metadata": {},
   "outputs": [],
   "source": [
    "# create porch column, default value 0\n",
    "data['porch'] = 0.0\n",
    "\n",
    "# assign the rows with those tags a 1 using list of indexes\n",
    "data.loc[((data[(~data['front_porch'].isna())|      # where front porch isn't null or\n",
    "                (~data['large_porch'].isna())|      # where large porch isn't null or\n",
    "                (~data['screen_porch'].isna())|     # where screen porch isn't null or\n",
    "                (~data['wrap_around_porch'].isna()) # where wrap around porch isn't null\n",
    "                ].index).tolist()),'porch'] = 1.0\n",
    "\n",
    "# drop old columns\n",
    "data = data.drop(['front_porch','large_porch','screen_porch','wrap_around_porch'],axis=1)"
   ]
  },
  {
   "cell_type": "markdown",
   "metadata": {},
   "source": [
    "While some properties, like apartments, might not have a dedicated laundry room, laundry rooms generally have washers and dryers. So these will be combined into 'laundry_facilities'."
   ]
  },
  {
   "cell_type": "code",
   "execution_count": 56,
   "metadata": {},
   "outputs": [
    {
     "data": {
      "text/plain": [
       "washer_dryer    494.0\n",
       "laundry_room    495.0\n",
       "dtype: float64"
      ]
     },
     "execution_count": 56,
     "metadata": {},
     "output_type": "execute_result"
    }
   ],
   "source": [
    "data[(data['washer_dryer']==1.0)|(data['laundry_room']==1.0)][['washer_dryer','laundry_room']].sum()"
   ]
  },
  {
   "cell_type": "code",
   "execution_count": 57,
   "metadata": {},
   "outputs": [],
   "source": [
    "# create Laundry_facilities column, default value 0\n",
    "data['laundry_facilities'] = 0.0\n",
    "\n",
    "# assign the rows with those tags a 1 using list of indexes\n",
    "data.loc[((data[(~data['washer_dryer'].isna())| # where washer/dryer isn't null or\n",
    "                (~data['laundry_room'].isna())  # where laundry room isn't null\n",
    "                ].index).tolist()),'laundry_facilities'] = 1.0\n",
    "\n",
    "# drop old columns \n",
    "data = data.drop(['washer_dryer','laundry_room'],axis=1)"
   ]
  },
  {
   "cell_type": "markdown",
   "metadata": {},
   "source": [
    "Kitchen and ceiling features:<p>\n",
    "We are going to handle this in two ways:  the creation of 'notable_kitchen' for any tag pretaining to kitchen, and 'notable_ceiling' for the ceiling ones, and then a 'recently_updated' column with a max value of 2 based on the presence of 'updated_kitchen' and 'new_roof'. Without interior design knowledge there is no way to meaninfully rank the various types of kitchen or ceiling, but their inclusion presumably means they are desirable. <p>\n",
    "_Note: ceilings are interior and roofs are exterior, so the 'new_roof' column is not part of the notable_ceiling aggregate._"
   ]
  },
  {
   "cell_type": "code",
   "execution_count": 58,
   "metadata": {},
   "outputs": [],
   "source": [
    "# create new columns, default values all 0\n",
    "data[['notable_kitchen','notable_ceiling','recently_updated']] = 0.0\n",
    "\n",
    "# assign each column 1s in the appropriate rows using list of indexes\n",
    "# -> kitchens \n",
    "data.loc[((data[(~data['updated_kitchen'].isna())|  # where updated kitchen isn't null or\n",
    "                (~data['modern_kitchen'].isna())|   # where modern kitchen isn't null or\n",
    "                (~data['large_kitchen'].isna())|    # where large kitchen isn't null or\n",
    "                (~data['granite_kitchen'].isna())|  # where granite kitchen isn't null or\n",
    "                (~data['open_kitchen'].isna())|     # where open kitchen isn't null or\n",
    "                (~data['gourmet_kitchen'].isna())|  # where gourmet kitchen isn't null or\n",
    "                (~data['kitchen_island'].isna())|   # where kitchen island isn't null or\n",
    "                (~data['outdoor_kitchen'].isna())|  # where outdoor kitchen isn't null or\n",
    "                (~data['white_kitchen'].isna())|    # where white kitchen isn't null or\n",
    "                (~data['two_kitchen'].isna())       # where two kitchen isn't null\n",
    "                ].index).tolist()),'notable_kitchen'] = 1.0\n",
    "\n",
    "# -> ceilings\n",
    "data.loc[((data[(~data['high_ceiling'].isna())|         # where high ceiling isn't null or\n",
    "                (~data['coffer_ceiling'].isna())|       # where coffer ceiling isn't null or\n",
    "                (~data['cathedral_ceiling'].isna())|    # where cathedral ceiling isn't null or\n",
    "                (~data['vaulted_ceiling'].isna())       # where vaulted ceiling isn't null \n",
    "                ].index).tolist()),'notable_ceiling'] = 1.0\n",
    "\n",
    "# -> recent updates\n",
    "# (has both)\n",
    "data.loc[((data[(~data['new_roof'].isna())&         # where new roof isn't null and\n",
    "                (~data['updated_kitchen'].isna())   # where updated kitchen isn't null \n",
    "                ].index).tolist()),'recently_updated'] = 1.0\n",
    "# only kitchen\n",
    "data.loc[((data[(data['new_roof'].isna())&          # where new roof is null and\n",
    "                (~data['updated_kitchen'].isna())   # where updated kitchen isn't null  \n",
    "                ].index).tolist()),'recently_updated'] = 1.0\n",
    "# only roof \n",
    "data.loc[((data[(~data['new_roof'].isna())&         # where new roof isn't null and\n",
    "                (data['updated_kitchen'].isna())    # where updated kitchen isn null \n",
    "                ].index).tolist()),'recently_updated'] = 1.0\n",
    "\n",
    "# drop old columns\n",
    "data = data.drop(['updated_kitchen','modern_kitchen','large_kitchen','open_kitchen','granite_kitchen','gourmet_kitchen',\n",
    "            'kitchen_island','outdoor_kitchen','white_kitchen','two_kitchen','high_ceiling','coffer_ceiling',\n",
    "            'cathedral_ceiling','vaulted_ceiling','new_roof'],axis=1)"
   ]
  },
  {
   "cell_type": "markdown",
   "metadata": {},
   "source": [
    "We have decided that we are going to consider 'media_room', 'theater_room' and 'game_room' the same for our purposes, as they logically are essentially the same and there are very few of them in the overall dataset. "
   ]
  },
  {
   "cell_type": "code",
   "execution_count": 59,
   "metadata": {},
   "outputs": [],
   "source": [
    "# create new column, default values 0\n",
    "data['multimedia_room'] = 0.0\n",
    "\n",
    "# assign the rows with those tags a 1 using list of indexes\n",
    "data.loc[((data[(~data['media_room'].isna())|   # where media room isn't null or\n",
    "                (~data['theater_room'].isna())| # where theater room isn't null or\n",
    "                (~data['game_room'].isna())     # where game room isn't null \n",
    "                ].index).tolist()),'multimedia_room'] = 1.0\n",
    "\n",
    "# drop old columns\n",
    "data = data.drop(['media_room','theater_room','game_room'],axis=1)"
   ]
  },
  {
   "cell_type": "markdown",
   "metadata": {},
   "source": [
    "Going to collapse fenced_yard, private_backyard and fenced_courtyard into 'enclosed_yard'; given that the courtyard tag only occurs on single family homes, it cannot be talking about the kind of central courtyard that happens on some apartment complexes, and belongs with the others. "
   ]
  },
  {
   "cell_type": "code",
   "execution_count": 60,
   "metadata": {},
   "outputs": [
    {
     "data": {
      "text/plain": [
       "fenced_courtyard  property_type\n",
       "1.0               single_family    2\n",
       "Name: count, dtype: int64"
      ]
     },
     "execution_count": 60,
     "metadata": {},
     "output_type": "execute_result"
    }
   ],
   "source": [
    "data[data['fenced_courtyard']>0][['fenced_courtyard','property_type']].value_counts()"
   ]
  },
  {
   "cell_type": "code",
   "execution_count": 61,
   "metadata": {},
   "outputs": [],
   "source": [
    "# create new column with default value of 0\n",
    "data['enclosed_yard'] = 0.0\n",
    "\n",
    "# assign the rows with those tags a 1 using list of indexes\n",
    "data.loc[((data[(data['fenced_yard']>0)|   # where fenced yard isn't null or\n",
    "                (data['private_backyard']>0)| # where private backyard isn't null or\n",
    "                (data['fenced_courtyard']>0)     # where fenced courtyard isn't null \n",
    "                ].index).tolist()),'enclosed_yard'] = 1.0\n",
    "\n",
    "# drop the old columns\n",
    "data = data.drop(['fenced_yard','private_backyard','fenced_courtyard'],axis=1)"
   ]
  },
  {
   "cell_type": "markdown",
   "metadata": {},
   "source": [
    "There should by definition be correlation between tags for master suites and tags for master beds and baths, but there isn't:"
   ]
  },
  {
   "cell_type": "code",
   "execution_count": 62,
   "metadata": {},
   "outputs": [
    {
     "name": "stdout",
     "output_type": "stream",
     "text": [
      "number of master suites: 54\n",
      "both master suite and master bed: 7\n",
      "both master suite and mastre bath: 4\n",
      "master suite, master bed AND master bath: 2\n"
     ]
    }
   ],
   "source": [
    "print('number of master suites:',len(data[data['master_suite']>0]))\n",
    "print('both master suite and master bed:',len(data[(data['master_suite']>0) & (data['master_bedroom']>0)]))\n",
    "print('both master suite and mastre bath:',len(data[(data['master_suite']>0) & (data['master_bathroom']>0)]))\n",
    "print('master suite, master bed AND master bath:',len(data[(data['master_bathroom']>0) & (data['master_bedroom']>0) & (data['master_suite']>0)]))"
   ]
  },
  {
   "cell_type": "markdown",
   "metadata": {},
   "source": [
    "This could be reprogrammed manually, but it would be time consuming and not necessarily worth it, so we will not be looking at those for now. <p>\n",
    "\n",
    "None of the master bedroom/suite tags can give any information for missing bedroom counts."
   ]
  },
  {
   "cell_type": "code",
   "execution_count": 63,
   "metadata": {},
   "outputs": [
    {
     "data": {
      "text/plain": [
       "Series([], Name: count, dtype: int64)"
      ]
     },
     "metadata": {},
     "output_type": "display_data"
    },
    {
     "data": {
      "text/plain": [
       "Series([], Name: count, dtype: int64)"
      ]
     },
     "metadata": {},
     "output_type": "display_data"
    },
    {
     "data": {
      "text/plain": [
       "Series([], Name: count, dtype: int64)"
      ]
     },
     "metadata": {},
     "output_type": "display_data"
    },
    {
     "data": {
      "text/plain": [
       "Series([], Name: count, dtype: int64)"
      ]
     },
     "metadata": {},
     "output_type": "display_data"
    },
    {
     "data": {
      "text/plain": [
       "Series([], Name: count, dtype: int64)"
      ]
     },
     "metadata": {},
     "output_type": "display_data"
    }
   ],
   "source": [
    "display(data[data['descrip_beds'].isna()]['master_bedroom'].value_counts())\n",
    "display(data[data['descrip_beds'].isna()]['master_suite'].value_counts())\n",
    "display(data[data['descrip_beds'].isna()]['two_master_suites'].value_counts())\n",
    "display(data[data['descrip_beds'].isna()]['first_floor_master_bedroom'].value_counts())\n",
    "display(data[data['descrip_beds'].isna()]['dual_master_bedroom'].value_counts())"
   ]
  },
  {
   "cell_type": "markdown",
   "metadata": {},
   "source": [
    "None the bathroom tags can give us information about missing bathroom counts. But one of the description categories can, so we will use that to update the descrip_bath column."
   ]
  },
  {
   "cell_type": "code",
   "execution_count": 64,
   "metadata": {},
   "outputs": [
    {
     "data": {
      "text/plain": [
       "Series([], Name: count, dtype: int64)"
      ]
     },
     "metadata": {},
     "output_type": "display_data"
    },
    {
     "data": {
      "text/plain": [
       "Series([], Name: count, dtype: int64)"
      ]
     },
     "metadata": {},
     "output_type": "display_data"
    },
    {
     "data": {
      "text/plain": [
       "Series([], Name: count, dtype: int64)"
      ]
     },
     "metadata": {},
     "output_type": "display_data"
    },
    {
     "data": {
      "text/plain": [
       "Series([], Name: count, dtype: int64)"
      ]
     },
     "metadata": {},
     "output_type": "display_data"
    },
    {
     "data": {
      "text/plain": [
       "Series([], Name: count, dtype: int64)"
      ]
     },
     "metadata": {},
     "output_type": "display_data"
    },
    {
     "data": {
      "text/plain": [
       "Series([], Name: count, dtype: int64)"
      ]
     },
     "metadata": {},
     "output_type": "display_data"
    },
    {
     "data": {
      "text/plain": [
       "Series([], Name: count, dtype: int64)"
      ]
     },
     "metadata": {},
     "output_type": "display_data"
    }
   ],
   "source": [
    "# all the bathroom related tags \n",
    "display(data[data['descrip_baths'].isna()]['ensuite'].value_counts())\n",
    "display(data[data['descrip_baths'].isna()]['jack_and_jill_bathroom'].value_counts())\n",
    "display(data[data['descrip_baths'].isna()]['big_bathroom'].value_counts())\n",
    "display(data[data['descrip_baths'].isna()]['private_bathroom'].value_counts())\n",
    "display(data[data['descrip_baths'].isna()]['master_bathroom'].value_counts())\n",
    "display(data[data['descrip_baths'].isna()]['master_suite'].value_counts())\n",
    "display(data[data['descrip_baths'].isna()]['two_master_suites'].value_counts())"
   ]
  },
  {
   "cell_type": "code",
   "execution_count": 65,
   "metadata": {},
   "outputs": [
    {
     "data": {
      "text/plain": [
       "Series([], Name: count, dtype: int64)"
      ]
     },
     "metadata": {},
     "output_type": "display_data"
    },
    {
     "data": {
      "text/plain": [
       "Series([], Name: count, dtype: int64)"
      ]
     },
     "metadata": {},
     "output_type": "display_data"
    },
    {
     "data": {
      "text/plain": [
       "descrip_baths_half\n",
       "1.0    1\n",
       "Name: count, dtype: int64"
      ]
     },
     "metadata": {},
     "output_type": "display_data"
    }
   ],
   "source": [
    "display(data[data['descrip_baths'].isna()]['descrip_baths_3qtr'].value_counts())\n",
    "display(data[data['descrip_baths'].isna()]['descrip_baths_full'].value_counts())\n",
    "display(data[data['descrip_baths'].isna()]['descrip_baths_half'].value_counts())"
   ]
  },
  {
   "cell_type": "markdown",
   "metadata": {},
   "source": [
    "The only value is one, so it's easy. "
   ]
  },
  {
   "cell_type": "code",
   "execution_count": 66,
   "metadata": {},
   "outputs": [],
   "source": [
    "data.loc[((data[\n",
    "    (data['descrip_baths'].isna())& # where there is not bathroom count \n",
    "    (data['descrip_baths_half']>0) # there is a non-zero value for half-bath\n",
    "    ].index).tolist()),'descrip_baths'] = 1.0"
   ]
  },
  {
   "cell_type": "markdown",
   "metadata": {},
   "source": [
    "Because descrip_baths is the total number of bathrooms, the other descrip columns related to bathrooms are now no longer necessary and can be dropped. "
   ]
  },
  {
   "cell_type": "code",
   "execution_count": 67,
   "metadata": {},
   "outputs": [],
   "source": [
    "data = data.drop(['descrip_baths_3qtr','descrip_baths_full','descrip_baths_half','ensuite','jack_and_jill_bathroom','big_bathroom','private_bathroom',\n",
    "                  'master_bathroom','master_suite','two_master_suites','master_bedroom','first_floor_master_bedroom','dual_master_bedroom'],axis=1)"
   ]
  },
  {
   "cell_type": "markdown",
   "metadata": {},
   "source": [
    "Beds and baths still have leftover empty values, and to avoid skewing the data, they are being filled with 0s."
   ]
  },
  {
   "cell_type": "code",
   "execution_count": 68,
   "metadata": {},
   "outputs": [],
   "source": [
    "data['descrip_baths'] = data['descrip_baths'].fillna(0)\n",
    "data['descrip_beds'] = data['descrip_beds'].fillna(0)"
   ]
  },
  {
   "cell_type": "markdown",
   "metadata": {},
   "source": [
    "Filling the rest of the categorical NaNs:<br>\n",
    "_(by column so we can see the ones that need imputing)_"
   ]
  },
  {
   "cell_type": "code",
   "execution_count": 69,
   "metadata": {},
   "outputs": [],
   "source": [
    "data['cul_de_sac'] = data['cul_de_sac'].fillna(0)\n",
    "data['family_room'] = data['family_room'].fillna(0)\n",
    "data['hardwood_floors'] = data['hardwood_floors'].fillna(0)\n",
    "data['basement'] = data['basement'].fillna(0)\n",
    "data['rental_property'] = data['rental_property'].fillna(0)\n",
    "data['private_courtyard'] = data['private_courtyard'].fillna(0)\n",
    "data['den_or_office'] = data['den_or_office'].fillna(0)\n",
    "data['smart_homes'] = data['smart_homes'].fillna(0)\n",
    "data['guest_parking'] = data['guest_parking'].fillna(0)\n",
    "data['storm_shelter'] = data['storm_shelter'].fillna(0)\n",
    "data['furniture'] = data['furniture'].fillna(0)\n",
    "data['dishwasher'] = data['dishwasher'].fillna(0)\n",
    "data['central_air'] = data['central_air'].fillna(0)\n",
    "data['exposed_brick'] = data['exposed_brick'].fillna(0)\n",
    "data['security'] = data['security'].fillna(0)\n",
    "data['pets_allowed'] = data['pets_allowed'].fillna(0)\n",
    "data['fireplace'] = data['fireplace'].fillna(0)\n",
    "data['dining_room'] = data['dining_room'].fillna(0)\n",
    "data['wine_cellar'] = data['wine_cellar'].fillna(0)\n",
    "data['wine_cellar'] = data['wine_cellar'].fillna(0)\n",
    "data['wine_cellar'] = data['wine_cellar'].fillna(0)"
   ]
  },
  {
   "cell_type": "markdown",
   "metadata": {},
   "source": [
    "Convert descrip_sold_date from a string to a datetime object."
   ]
  },
  {
   "cell_type": "code",
   "execution_count": 70,
   "metadata": {},
   "outputs": [],
   "source": [
    "data['descrip_sold_date']=pd.to_datetime(data['descrip_sold_date'],format='%Y-%m-%d')"
   ]
  },
  {
   "cell_type": "markdown",
   "metadata": {},
   "source": [
    "Drop the leftover property_types column, organize columns in the dataframe"
   ]
  },
  {
   "cell_type": "code",
   "execution_count": 71,
   "metadata": {},
   "outputs": [],
   "source": [
    "data = data.drop('property_type',axis=1)"
   ]
  },
  {
   "cell_type": "code",
   "execution_count": 72,
   "metadata": {},
   "outputs": [],
   "source": [
    "data = data[['descrip_year_built','descrip_sold_date','descrip_sold_price','descrip_lot_sqft','descrip_sqft','location_state','location_city','garage_car_spaces',\n",
    "             'descrip_stories','descrip_beds','descrip_baths','property_type_condo','property_type_land','property_type_mobile','property_type_multi_family',\n",
    "             'property_type_other_unknown','property_type_single_family','property_type_townhouse','has_parking','heating','porch','laundry_facilities',\n",
    "             'notable_kitchen','notable_ceiling','recently_updated','multimedia_room','enclosed_yard','cul_de_sac','family_room','hardwood_floors','basement',\n",
    "             'rental_property','furniture','private_courtyard','central_air','dishwasher','fireplace','den_or_office','smart_homes','guest_parking','storm_shelter',\n",
    "             'exposed_brick','solar_power','security','pets_allowed','dining_room','wine_cellar']]"
   ]
  },
  {
   "cell_type": "code",
   "execution_count": 73,
   "metadata": {},
   "outputs": [
    {
     "data": {
      "text/plain": [
       "(1755, 47)"
      ]
     },
     "execution_count": 73,
     "metadata": {},
     "output_type": "execute_result"
    }
   ],
   "source": [
    "data.shape"
   ]
  },
  {
   "cell_type": "code",
   "execution_count": 74,
   "metadata": {},
   "outputs": [
    {
     "data": {
      "text/plain": [
       "Index(['descrip_year_built', 'descrip_sold_date', 'descrip_sold_price',\n",
       "       'descrip_lot_sqft', 'descrip_sqft', 'location_state', 'location_city',\n",
       "       'garage_car_spaces', 'descrip_stories', 'descrip_beds', 'descrip_baths',\n",
       "       'property_type_condo', 'property_type_land', 'property_type_mobile',\n",
       "       'property_type_multi_family', 'property_type_other_unknown',\n",
       "       'property_type_single_family', 'property_type_townhouse', 'has_parking',\n",
       "       'heating', 'porch', 'laundry_facilities', 'notable_kitchen',\n",
       "       'notable_ceiling', 'recently_updated', 'multimedia_room',\n",
       "       'enclosed_yard', 'cul_de_sac', 'family_room', 'hardwood_floors',\n",
       "       'basement', 'rental_property', 'furniture', 'private_courtyard',\n",
       "       'central_air', 'dishwasher', 'fireplace', 'den_or_office',\n",
       "       'smart_homes', 'guest_parking', 'storm_shelter', 'exposed_brick',\n",
       "       'solar_power', 'security', 'pets_allowed', 'dining_room',\n",
       "       'wine_cellar'],\n",
       "      dtype='object')"
      ]
     },
     "execution_count": 74,
     "metadata": {},
     "output_type": "execute_result"
    }
   ],
   "source": [
    "data.keys()"
   ]
  },
  {
   "cell_type": "code",
   "execution_count": 75,
   "metadata": {},
   "outputs": [],
   "source": [
    "# pickle the cleaned columns\n",
    "# data.to_pickle('pickles/data_clean_columns.pkl')"
   ]
  },
  {
   "cell_type": "markdown",
   "metadata": {},
   "source": [
    "### Dealing with Cities"
   ]
  },
  {
   "cell_type": "markdown",
   "metadata": {},
   "source": [
    "- Sales will vary drastically between cities and states.  Is there a way to keep information about which city it is without OHE?\n",
    "- Could we label encode or ordinal encode?  Yes, but this may have undesirable effects, giving nominal data ordinal values.\n",
    "- What we can do is use our training data to encode the mean sale price by city as a feature (a.k.a. Target Encoding)\n",
    "    - We can do this as long as we ONLY use the training data - we're using the available data to give us a 'starting guess' of the price for each city, without needing to encode city explicitly\n",
    "- If you replace cities or states with numerical values (like the mean price), make sure that the data is split so that we don't leak data into the training selection. This is a great time to train test split. Compute on the training data, and join these values to the test data\n",
    "- Note that you *may* have cities in the test set that are not in the training set. You don't want these to be NA, so maybe you can fill them with the overall mean"
   ]
  },
  {
   "cell_type": "code",
   "execution_count": 76,
   "metadata": {},
   "outputs": [],
   "source": [
    "import pandas as pd\n",
    "from sklearn.model_selection import train_test_split\n",
    "\n",
    "# Define the features and target variable\n",
    "X = data.drop(columns=['descrip_sold_price'])\n",
    "y = data['descrip_sold_price']"
   ]
  },
  {
   "cell_type": "code",
   "execution_count": 77,
   "metadata": {},
   "outputs": [],
   "source": [
    "# Split the data into training and test sets, we will use 80-20 split\n",
    "X_train, X_test, y_train, y_test = train_test_split(X, y, test_size=0.2, random_state=42)"
   ]
  },
  {
   "cell_type": "code",
   "execution_count": 78,
   "metadata": {},
   "outputs": [],
   "source": [
    "# Target encoding for 'location_state' and 'location_city' using mean of 'descrip_sold_price' in training data only\n",
    "state_price_mean = y_train.groupby(X_train['location_state']).mean()\n",
    "city_price_mean = y_train.groupby(X_train['location_city']).mean()"
   ]
  },
  {
   "cell_type": "code",
   "execution_count": 79,
   "metadata": {},
   "outputs": [],
   "source": [
    "# Map the encoded values back to the training and test sets\n",
    "X_train['state_target_encoded'] = X_train['location_state'].map(state_price_mean)\n",
    "X_train['city_target_encoded'] = X_train['location_city'].map(city_price_mean)\n",
    "\n",
    "# For the test set, we use the same mappings calculated on the training set\n",
    "X_test['state_target_encoded'] = X_test['location_state'].map(state_price_mean)\n",
    "X_test['city_target_encoded'] = X_test['location_city'].map(city_price_mean)"
   ]
  },
  {
   "cell_type": "code",
   "execution_count": 80,
   "metadata": {},
   "outputs": [
    {
     "data": {
      "text/html": [
       "<div>\n",
       "<style scoped>\n",
       "    .dataframe tbody tr th:only-of-type {\n",
       "        vertical-align: middle;\n",
       "    }\n",
       "\n",
       "    .dataframe tbody tr th {\n",
       "        vertical-align: top;\n",
       "    }\n",
       "\n",
       "    .dataframe thead th {\n",
       "        text-align: right;\n",
       "    }\n",
       "</style>\n",
       "<table border=\"1\" class=\"dataframe\">\n",
       "  <thead>\n",
       "    <tr style=\"text-align: right;\">\n",
       "      <th></th>\n",
       "      <th>descrip_year_built</th>\n",
       "      <th>descrip_sold_date</th>\n",
       "      <th>descrip_sold_price</th>\n",
       "      <th>descrip_lot_sqft</th>\n",
       "      <th>descrip_sqft</th>\n",
       "      <th>location_state</th>\n",
       "      <th>location_city</th>\n",
       "      <th>garage_car_spaces</th>\n",
       "      <th>descrip_stories</th>\n",
       "      <th>descrip_beds</th>\n",
       "      <th>...</th>\n",
       "      <th>den_or_office</th>\n",
       "      <th>smart_homes</th>\n",
       "      <th>guest_parking</th>\n",
       "      <th>storm_shelter</th>\n",
       "      <th>exposed_brick</th>\n",
       "      <th>solar_power</th>\n",
       "      <th>security</th>\n",
       "      <th>pets_allowed</th>\n",
       "      <th>dining_room</th>\n",
       "      <th>wine_cellar</th>\n",
       "    </tr>\n",
       "  </thead>\n",
       "  <tbody>\n",
       "    <tr>\n",
       "      <th>1249</th>\n",
       "      <td>1993.0</td>\n",
       "      <td>2023-09-11</td>\n",
       "      <td>310000.0</td>\n",
       "      <td>NaN</td>\n",
       "      <td>1309.0</td>\n",
       "      <td>Ohio</td>\n",
       "      <td>Reynoldsburg</td>\n",
       "      <td>0.0</td>\n",
       "      <td>1.0</td>\n",
       "      <td>3.0</td>\n",
       "      <td>...</td>\n",
       "      <td>0.0</td>\n",
       "      <td>0.0</td>\n",
       "      <td>0.0</td>\n",
       "      <td>0.0</td>\n",
       "      <td>0.0</td>\n",
       "      <td>0.0</td>\n",
       "      <td>0.0</td>\n",
       "      <td>0.0</td>\n",
       "      <td>0.0</td>\n",
       "      <td>0.0</td>\n",
       "    </tr>\n",
       "  </tbody>\n",
       "</table>\n",
       "<p>1 rows × 47 columns</p>\n",
       "</div>"
      ],
      "text/plain": [
       "      descrip_year_built descrip_sold_date  descrip_sold_price  \\\n",
       "1249              1993.0        2023-09-11            310000.0   \n",
       "\n",
       "      descrip_lot_sqft  descrip_sqft location_state location_city  \\\n",
       "1249               NaN        1309.0           Ohio  Reynoldsburg   \n",
       "\n",
       "      garage_car_spaces  descrip_stories  descrip_beds  ...  den_or_office  \\\n",
       "1249                0.0              1.0           3.0  ...            0.0   \n",
       "\n",
       "      smart_homes  guest_parking  storm_shelter  exposed_brick  solar_power  \\\n",
       "1249          0.0            0.0            0.0            0.0          0.0   \n",
       "\n",
       "      security  pets_allowed  dining_room  wine_cellar  \n",
       "1249       0.0           0.0          0.0          0.0  \n",
       "\n",
       "[1 rows x 47 columns]"
      ]
     },
     "execution_count": 80,
     "metadata": {},
     "output_type": "execute_result"
    }
   ],
   "source": [
    "data[data['location_city']=='Reynoldsburg']"
   ]
  },
  {
   "cell_type": "code",
   "execution_count": 81,
   "metadata": {},
   "outputs": [
    {
     "data": {
      "text/html": [
       "<div>\n",
       "<style scoped>\n",
       "    .dataframe tbody tr th:only-of-type {\n",
       "        vertical-align: middle;\n",
       "    }\n",
       "\n",
       "    .dataframe tbody tr th {\n",
       "        vertical-align: top;\n",
       "    }\n",
       "\n",
       "    .dataframe thead th {\n",
       "        text-align: right;\n",
       "    }\n",
       "</style>\n",
       "<table border=\"1\" class=\"dataframe\">\n",
       "  <thead>\n",
       "    <tr style=\"text-align: right;\">\n",
       "      <th></th>\n",
       "      <th>location_city</th>\n",
       "    </tr>\n",
       "  </thead>\n",
       "  <tbody>\n",
       "    <tr>\n",
       "      <th>1249</th>\n",
       "      <td>Reynoldsburg</td>\n",
       "    </tr>\n",
       "    <tr>\n",
       "      <th>1440</th>\n",
       "      <td>Garnett</td>\n",
       "    </tr>\n",
       "    <tr>\n",
       "      <th>1553</th>\n",
       "      <td>Kearns</td>\n",
       "    </tr>\n",
       "    <tr>\n",
       "      <th>384</th>\n",
       "      <td>Hapeville</td>\n",
       "    </tr>\n",
       "    <tr>\n",
       "      <th>184</th>\n",
       "      <td>Elk Grove</td>\n",
       "    </tr>\n",
       "    <tr>\n",
       "      <th>1276</th>\n",
       "      <td>Midwest City</td>\n",
       "    </tr>\n",
       "    <tr>\n",
       "      <th>1283</th>\n",
       "      <td>Spencer</td>\n",
       "    </tr>\n",
       "    <tr>\n",
       "      <th>862</th>\n",
       "      <td>Little Canada</td>\n",
       "    </tr>\n",
       "  </tbody>\n",
       "</table>\n",
       "</div>"
      ],
      "text/plain": [
       "      location_city\n",
       "1249   Reynoldsburg\n",
       "1440        Garnett\n",
       "1553         Kearns\n",
       "384       Hapeville\n",
       "184       Elk Grove\n",
       "1276   Midwest City\n",
       "1283        Spencer\n",
       "862   Little Canada"
      ]
     },
     "execution_count": 81,
     "metadata": {},
     "output_type": "execute_result"
    }
   ],
   "source": [
    "X_test[X_test['city_target_encoded'].isna()][['location_city']]"
   ]
  },
  {
   "cell_type": "code",
   "execution_count": 82,
   "metadata": {},
   "outputs": [],
   "source": [
    "# We can drop original non-numeric columns if they're no longer needed\n",
    "X_train = X_train.drop(['location_state', 'location_city'], axis=1)\n",
    "X_test = X_test.drop(['location_state', 'location_city'], axis=1)"
   ]
  },
  {
   "cell_type": "code",
   "execution_count": 83,
   "metadata": {},
   "outputs": [
    {
     "name": "stdout",
     "output_type": "stream",
     "text": [
      "Training features shape: (1404, 46)\n",
      "Testing features shape: (351, 46)\n",
      "Training target shape: (1404,)\n",
      "Testing target shape: (351,)\n"
     ]
    }
   ],
   "source": [
    "# Check the shapes of the processed data\n",
    "print(\"Training features shape:\", X_train.shape)\n",
    "print(\"Testing features shape:\", X_test.shape)\n",
    "print(\"Training target shape:\", y_train.shape)\n",
    "print(\"Testing target shape:\", y_test.shape)"
   ]
  },
  {
   "cell_type": "code",
   "execution_count": 84,
   "metadata": {},
   "outputs": [
    {
     "data": {
      "text/html": [
       "<div>\n",
       "<style scoped>\n",
       "    .dataframe tbody tr th:only-of-type {\n",
       "        vertical-align: middle;\n",
       "    }\n",
       "\n",
       "    .dataframe tbody tr th {\n",
       "        vertical-align: top;\n",
       "    }\n",
       "\n",
       "    .dataframe thead th {\n",
       "        text-align: right;\n",
       "    }\n",
       "</style>\n",
       "<table border=\"1\" class=\"dataframe\">\n",
       "  <thead>\n",
       "    <tr style=\"text-align: right;\">\n",
       "      <th></th>\n",
       "      <th>descrip_year_built</th>\n",
       "      <th>descrip_sold_date</th>\n",
       "      <th>descrip_lot_sqft</th>\n",
       "      <th>descrip_sqft</th>\n",
       "      <th>garage_car_spaces</th>\n",
       "      <th>descrip_stories</th>\n",
       "      <th>descrip_beds</th>\n",
       "      <th>descrip_baths</th>\n",
       "      <th>property_type_condo</th>\n",
       "      <th>property_type_land</th>\n",
       "      <th>...</th>\n",
       "      <th>guest_parking</th>\n",
       "      <th>storm_shelter</th>\n",
       "      <th>exposed_brick</th>\n",
       "      <th>solar_power</th>\n",
       "      <th>security</th>\n",
       "      <th>pets_allowed</th>\n",
       "      <th>dining_room</th>\n",
       "      <th>wine_cellar</th>\n",
       "      <th>state_target_encoded</th>\n",
       "      <th>city_target_encoded</th>\n",
       "    </tr>\n",
       "  </thead>\n",
       "  <tbody>\n",
       "    <tr>\n",
       "      <th>199</th>\n",
       "      <td>2000.0</td>\n",
       "      <td>2023-12-13</td>\n",
       "      <td>5885.0</td>\n",
       "      <td>1931.0</td>\n",
       "      <td>2.0</td>\n",
       "      <td>2.0</td>\n",
       "      <td>3.0</td>\n",
       "      <td>3.0</td>\n",
       "      <td>0.0</td>\n",
       "      <td>0.0</td>\n",
       "      <td>...</td>\n",
       "      <td>0.0</td>\n",
       "      <td>0.0</td>\n",
       "      <td>0.0</td>\n",
       "      <td>0.0</td>\n",
       "      <td>0.0</td>\n",
       "      <td>0.0</td>\n",
       "      <td>0.0</td>\n",
       "      <td>0.0</td>\n",
       "      <td>576021.894737</td>\n",
       "      <td>576021.894737</td>\n",
       "    </tr>\n",
       "    <tr>\n",
       "      <th>1382</th>\n",
       "      <td>1987.0</td>\n",
       "      <td>2023-12-29</td>\n",
       "      <td>3049.0</td>\n",
       "      <td>1476.0</td>\n",
       "      <td>2.0</td>\n",
       "      <td>3.0</td>\n",
       "      <td>2.0</td>\n",
       "      <td>3.0</td>\n",
       "      <td>0.0</td>\n",
       "      <td>0.0</td>\n",
       "      <td>...</td>\n",
       "      <td>0.0</td>\n",
       "      <td>0.0</td>\n",
       "      <td>0.0</td>\n",
       "      <td>0.0</td>\n",
       "      <td>0.0</td>\n",
       "      <td>0.0</td>\n",
       "      <td>0.0</td>\n",
       "      <td>0.0</td>\n",
       "      <td>245321.578947</td>\n",
       "      <td>245321.578947</td>\n",
       "    </tr>\n",
       "    <tr>\n",
       "      <th>801</th>\n",
       "      <td>1967.0</td>\n",
       "      <td>2024-01-04</td>\n",
       "      <td>8538.0</td>\n",
       "      <td>2375.0</td>\n",
       "      <td>0.0</td>\n",
       "      <td>1.0</td>\n",
       "      <td>3.0</td>\n",
       "      <td>2.0</td>\n",
       "      <td>0.0</td>\n",
       "      <td>0.0</td>\n",
       "      <td>...</td>\n",
       "      <td>0.0</td>\n",
       "      <td>0.0</td>\n",
       "      <td>0.0</td>\n",
       "      <td>0.0</td>\n",
       "      <td>0.0</td>\n",
       "      <td>0.0</td>\n",
       "      <td>0.0</td>\n",
       "      <td>0.0</td>\n",
       "      <td>160030.769231</td>\n",
       "      <td>160030.769231</td>\n",
       "    </tr>\n",
       "    <tr>\n",
       "      <th>1240</th>\n",
       "      <td>NaN</td>\n",
       "      <td>2023-09-27</td>\n",
       "      <td>NaN</td>\n",
       "      <td>NaN</td>\n",
       "      <td>0.0</td>\n",
       "      <td>0.0</td>\n",
       "      <td>0.0</td>\n",
       "      <td>0.0</td>\n",
       "      <td>0.0</td>\n",
       "      <td>1.0</td>\n",
       "      <td>...</td>\n",
       "      <td>0.0</td>\n",
       "      <td>0.0</td>\n",
       "      <td>0.0</td>\n",
       "      <td>0.0</td>\n",
       "      <td>0.0</td>\n",
       "      <td>0.0</td>\n",
       "      <td>0.0</td>\n",
       "      <td>0.0</td>\n",
       "      <td>402512.903226</td>\n",
       "      <td>348120.000000</td>\n",
       "    </tr>\n",
       "    <tr>\n",
       "      <th>1594</th>\n",
       "      <td>1910.0</td>\n",
       "      <td>2024-01-12</td>\n",
       "      <td>2749.0</td>\n",
       "      <td>2000.0</td>\n",
       "      <td>0.0</td>\n",
       "      <td>2.0</td>\n",
       "      <td>3.0</td>\n",
       "      <td>3.0</td>\n",
       "      <td>0.0</td>\n",
       "      <td>0.0</td>\n",
       "      <td>...</td>\n",
       "      <td>0.0</td>\n",
       "      <td>0.0</td>\n",
       "      <td>0.0</td>\n",
       "      <td>0.0</td>\n",
       "      <td>0.0</td>\n",
       "      <td>0.0</td>\n",
       "      <td>0.0</td>\n",
       "      <td>0.0</td>\n",
       "      <td>411398.837209</td>\n",
       "      <td>458069.642857</td>\n",
       "    </tr>\n",
       "  </tbody>\n",
       "</table>\n",
       "<p>5 rows × 46 columns</p>\n",
       "</div>"
      ],
      "text/plain": [
       "      descrip_year_built descrip_sold_date  descrip_lot_sqft  descrip_sqft  \\\n",
       "199               2000.0        2023-12-13            5885.0        1931.0   \n",
       "1382              1987.0        2023-12-29            3049.0        1476.0   \n",
       "801               1967.0        2024-01-04            8538.0        2375.0   \n",
       "1240                 NaN        2023-09-27               NaN           NaN   \n",
       "1594              1910.0        2024-01-12            2749.0        2000.0   \n",
       "\n",
       "      garage_car_spaces  descrip_stories  descrip_beds  descrip_baths  \\\n",
       "199                 2.0              2.0           3.0            3.0   \n",
       "1382                2.0              3.0           2.0            3.0   \n",
       "801                 0.0              1.0           3.0            2.0   \n",
       "1240                0.0              0.0           0.0            0.0   \n",
       "1594                0.0              2.0           3.0            3.0   \n",
       "\n",
       "      property_type_condo  property_type_land  ...  guest_parking  \\\n",
       "199                   0.0                 0.0  ...            0.0   \n",
       "1382                  0.0                 0.0  ...            0.0   \n",
       "801                   0.0                 0.0  ...            0.0   \n",
       "1240                  0.0                 1.0  ...            0.0   \n",
       "1594                  0.0                 0.0  ...            0.0   \n",
       "\n",
       "      storm_shelter  exposed_brick  solar_power  security  pets_allowed  \\\n",
       "199             0.0            0.0          0.0       0.0           0.0   \n",
       "1382            0.0            0.0          0.0       0.0           0.0   \n",
       "801             0.0            0.0          0.0       0.0           0.0   \n",
       "1240            0.0            0.0          0.0       0.0           0.0   \n",
       "1594            0.0            0.0          0.0       0.0           0.0   \n",
       "\n",
       "      dining_room  wine_cellar  state_target_encoded  city_target_encoded  \n",
       "199           0.0          0.0         576021.894737        576021.894737  \n",
       "1382          0.0          0.0         245321.578947        245321.578947  \n",
       "801           0.0          0.0         160030.769231        160030.769231  \n",
       "1240          0.0          0.0         402512.903226        348120.000000  \n",
       "1594          0.0          0.0         411398.837209        458069.642857  \n",
       "\n",
       "[5 rows x 46 columns]"
      ]
     },
     "execution_count": 84,
     "metadata": {},
     "output_type": "execute_result"
    }
   ],
   "source": [
    "X_train.head()"
   ]
  },
  {
   "cell_type": "code",
   "execution_count": 85,
   "metadata": {},
   "outputs": [
    {
     "data": {
      "text/html": [
       "<div>\n",
       "<style scoped>\n",
       "    .dataframe tbody tr th:only-of-type {\n",
       "        vertical-align: middle;\n",
       "    }\n",
       "\n",
       "    .dataframe tbody tr th {\n",
       "        vertical-align: top;\n",
       "    }\n",
       "\n",
       "    .dataframe thead th {\n",
       "        text-align: right;\n",
       "    }\n",
       "</style>\n",
       "<table border=\"1\" class=\"dataframe\">\n",
       "  <thead>\n",
       "    <tr style=\"text-align: right;\">\n",
       "      <th></th>\n",
       "      <th>descrip_year_built</th>\n",
       "      <th>descrip_sold_date</th>\n",
       "      <th>descrip_lot_sqft</th>\n",
       "      <th>descrip_sqft</th>\n",
       "      <th>garage_car_spaces</th>\n",
       "      <th>descrip_stories</th>\n",
       "      <th>descrip_beds</th>\n",
       "      <th>descrip_baths</th>\n",
       "      <th>property_type_condo</th>\n",
       "      <th>property_type_land</th>\n",
       "      <th>...</th>\n",
       "      <th>guest_parking</th>\n",
       "      <th>storm_shelter</th>\n",
       "      <th>exposed_brick</th>\n",
       "      <th>solar_power</th>\n",
       "      <th>security</th>\n",
       "      <th>pets_allowed</th>\n",
       "      <th>dining_room</th>\n",
       "      <th>wine_cellar</th>\n",
       "      <th>state_target_encoded</th>\n",
       "      <th>city_target_encoded</th>\n",
       "    </tr>\n",
       "  </thead>\n",
       "  <tbody>\n",
       "  </tbody>\n",
       "</table>\n",
       "<p>0 rows × 46 columns</p>\n",
       "</div>"
      ],
      "text/plain": [
       "Empty DataFrame\n",
       "Columns: [descrip_year_built, descrip_sold_date, descrip_lot_sqft, descrip_sqft, garage_car_spaces, descrip_stories, descrip_beds, descrip_baths, property_type_condo, property_type_land, property_type_mobile, property_type_multi_family, property_type_other_unknown, property_type_single_family, property_type_townhouse, has_parking, heating, porch, laundry_facilities, notable_kitchen, notable_ceiling, recently_updated, multimedia_room, enclosed_yard, cul_de_sac, family_room, hardwood_floors, basement, rental_property, furniture, private_courtyard, central_air, dishwasher, fireplace, den_or_office, smart_homes, guest_parking, storm_shelter, exposed_brick, solar_power, security, pets_allowed, dining_room, wine_cellar, state_target_encoded, city_target_encoded]\n",
       "Index: []\n",
       "\n",
       "[0 rows x 46 columns]"
      ]
     },
     "execution_count": 85,
     "metadata": {},
     "output_type": "execute_result"
    }
   ],
   "source": [
    "X_train[X_train['city_target_encoded'].isna()]"
   ]
  },
  {
   "cell_type": "code",
   "execution_count": 86,
   "metadata": {},
   "outputs": [
    {
     "data": {
      "text/html": [
       "<div>\n",
       "<style scoped>\n",
       "    .dataframe tbody tr th:only-of-type {\n",
       "        vertical-align: middle;\n",
       "    }\n",
       "\n",
       "    .dataframe tbody tr th {\n",
       "        vertical-align: top;\n",
       "    }\n",
       "\n",
       "    .dataframe thead th {\n",
       "        text-align: right;\n",
       "    }\n",
       "</style>\n",
       "<table border=\"1\" class=\"dataframe\">\n",
       "  <thead>\n",
       "    <tr style=\"text-align: right;\">\n",
       "      <th></th>\n",
       "      <th>descrip_year_built</th>\n",
       "      <th>descrip_sold_date</th>\n",
       "      <th>descrip_lot_sqft</th>\n",
       "      <th>descrip_sqft</th>\n",
       "      <th>garage_car_spaces</th>\n",
       "      <th>descrip_stories</th>\n",
       "      <th>descrip_beds</th>\n",
       "      <th>descrip_baths</th>\n",
       "      <th>property_type_condo</th>\n",
       "      <th>property_type_land</th>\n",
       "      <th>...</th>\n",
       "      <th>guest_parking</th>\n",
       "      <th>storm_shelter</th>\n",
       "      <th>exposed_brick</th>\n",
       "      <th>solar_power</th>\n",
       "      <th>security</th>\n",
       "      <th>pets_allowed</th>\n",
       "      <th>dining_room</th>\n",
       "      <th>wine_cellar</th>\n",
       "      <th>state_target_encoded</th>\n",
       "      <th>city_target_encoded</th>\n",
       "    </tr>\n",
       "  </thead>\n",
       "  <tbody>\n",
       "    <tr>\n",
       "      <th>323</th>\n",
       "      <td>2005.0</td>\n",
       "      <td>2023-11-27</td>\n",
       "      <td>4497.0</td>\n",
       "      <td>1848.0</td>\n",
       "      <td>2.0</td>\n",
       "      <td>2.0</td>\n",
       "      <td>3.0</td>\n",
       "      <td>2.0</td>\n",
       "      <td>0.0</td>\n",
       "      <td>0.0</td>\n",
       "      <td>...</td>\n",
       "      <td>0.0</td>\n",
       "      <td>0.0</td>\n",
       "      <td>0.0</td>\n",
       "      <td>0.0</td>\n",
       "      <td>0.0</td>\n",
       "      <td>0.0</td>\n",
       "      <td>0.0</td>\n",
       "      <td>0.0</td>\n",
       "      <td>327059.315789</td>\n",
       "      <td>327059.315789</td>\n",
       "    </tr>\n",
       "    <tr>\n",
       "      <th>409</th>\n",
       "      <td>1987.0</td>\n",
       "      <td>2024-01-08</td>\n",
       "      <td>3206.0</td>\n",
       "      <td>3206.0</td>\n",
       "      <td>0.0</td>\n",
       "      <td>1.0</td>\n",
       "      <td>3.0</td>\n",
       "      <td>3.0</td>\n",
       "      <td>1.0</td>\n",
       "      <td>0.0</td>\n",
       "      <td>...</td>\n",
       "      <td>0.0</td>\n",
       "      <td>0.0</td>\n",
       "      <td>0.0</td>\n",
       "      <td>0.0</td>\n",
       "      <td>0.0</td>\n",
       "      <td>0.0</td>\n",
       "      <td>0.0</td>\n",
       "      <td>1.0</td>\n",
       "      <td>526830.000000</td>\n",
       "      <td>492401.666667</td>\n",
       "    </tr>\n",
       "    <tr>\n",
       "      <th>406</th>\n",
       "      <td>1920.0</td>\n",
       "      <td>2024-01-08</td>\n",
       "      <td>4356.0</td>\n",
       "      <td>1086.0</td>\n",
       "      <td>0.0</td>\n",
       "      <td>1.0</td>\n",
       "      <td>2.0</td>\n",
       "      <td>1.0</td>\n",
       "      <td>0.0</td>\n",
       "      <td>0.0</td>\n",
       "      <td>...</td>\n",
       "      <td>0.0</td>\n",
       "      <td>0.0</td>\n",
       "      <td>0.0</td>\n",
       "      <td>0.0</td>\n",
       "      <td>0.0</td>\n",
       "      <td>0.0</td>\n",
       "      <td>0.0</td>\n",
       "      <td>0.0</td>\n",
       "      <td>526830.000000</td>\n",
       "      <td>492401.666667</td>\n",
       "    </tr>\n",
       "    <tr>\n",
       "      <th>463</th>\n",
       "      <td>1961.0</td>\n",
       "      <td>2024-01-05</td>\n",
       "      <td>13068.0</td>\n",
       "      <td>875.0</td>\n",
       "      <td>0.0</td>\n",
       "      <td>0.0</td>\n",
       "      <td>3.0</td>\n",
       "      <td>1.0</td>\n",
       "      <td>0.0</td>\n",
       "      <td>0.0</td>\n",
       "      <td>...</td>\n",
       "      <td>0.0</td>\n",
       "      <td>0.0</td>\n",
       "      <td>0.0</td>\n",
       "      <td>0.0</td>\n",
       "      <td>0.0</td>\n",
       "      <td>0.0</td>\n",
       "      <td>0.0</td>\n",
       "      <td>0.0</td>\n",
       "      <td>323002.571429</td>\n",
       "      <td>217596.562500</td>\n",
       "    </tr>\n",
       "    <tr>\n",
       "      <th>1141</th>\n",
       "      <td>1971.0</td>\n",
       "      <td>2023-12-22</td>\n",
       "      <td>6534.0</td>\n",
       "      <td>1056.0</td>\n",
       "      <td>2.0</td>\n",
       "      <td>1.0</td>\n",
       "      <td>3.0</td>\n",
       "      <td>2.0</td>\n",
       "      <td>0.0</td>\n",
       "      <td>0.0</td>\n",
       "      <td>...</td>\n",
       "      <td>0.0</td>\n",
       "      <td>0.0</td>\n",
       "      <td>0.0</td>\n",
       "      <td>0.0</td>\n",
       "      <td>0.0</td>\n",
       "      <td>0.0</td>\n",
       "      <td>0.0</td>\n",
       "      <td>0.0</td>\n",
       "      <td>503592.658537</td>\n",
       "      <td>503592.658537</td>\n",
       "    </tr>\n",
       "  </tbody>\n",
       "</table>\n",
       "<p>5 rows × 46 columns</p>\n",
       "</div>"
      ],
      "text/plain": [
       "      descrip_year_built descrip_sold_date  descrip_lot_sqft  descrip_sqft  \\\n",
       "323               2005.0        2023-11-27            4497.0        1848.0   \n",
       "409               1987.0        2024-01-08            3206.0        3206.0   \n",
       "406               1920.0        2024-01-08            4356.0        1086.0   \n",
       "463               1961.0        2024-01-05           13068.0         875.0   \n",
       "1141              1971.0        2023-12-22            6534.0        1056.0   \n",
       "\n",
       "      garage_car_spaces  descrip_stories  descrip_beds  descrip_baths  \\\n",
       "323                 2.0              2.0           3.0            2.0   \n",
       "409                 0.0              1.0           3.0            3.0   \n",
       "406                 0.0              1.0           2.0            1.0   \n",
       "463                 0.0              0.0           3.0            1.0   \n",
       "1141                2.0              1.0           3.0            2.0   \n",
       "\n",
       "      property_type_condo  property_type_land  ...  guest_parking  \\\n",
       "323                   0.0                 0.0  ...            0.0   \n",
       "409                   1.0                 0.0  ...            0.0   \n",
       "406                   0.0                 0.0  ...            0.0   \n",
       "463                   0.0                 0.0  ...            0.0   \n",
       "1141                  0.0                 0.0  ...            0.0   \n",
       "\n",
       "      storm_shelter  exposed_brick  solar_power  security  pets_allowed  \\\n",
       "323             0.0            0.0          0.0       0.0           0.0   \n",
       "409             0.0            0.0          0.0       0.0           0.0   \n",
       "406             0.0            0.0          0.0       0.0           0.0   \n",
       "463             0.0            0.0          0.0       0.0           0.0   \n",
       "1141            0.0            0.0          0.0       0.0           0.0   \n",
       "\n",
       "      dining_room  wine_cellar  state_target_encoded  city_target_encoded  \n",
       "323           0.0          0.0         327059.315789        327059.315789  \n",
       "409           0.0          1.0         526830.000000        492401.666667  \n",
       "406           0.0          0.0         526830.000000        492401.666667  \n",
       "463           0.0          0.0         323002.571429        217596.562500  \n",
       "1141          0.0          0.0         503592.658537        503592.658537  \n",
       "\n",
       "[5 rows x 46 columns]"
      ]
     },
     "execution_count": 86,
     "metadata": {},
     "output_type": "execute_result"
    }
   ],
   "source": [
    "X_test.head()"
   ]
  },
  {
   "cell_type": "code",
   "execution_count": 87,
   "metadata": {},
   "outputs": [
    {
     "data": {
      "text/html": [
       "<div>\n",
       "<style scoped>\n",
       "    .dataframe tbody tr th:only-of-type {\n",
       "        vertical-align: middle;\n",
       "    }\n",
       "\n",
       "    .dataframe tbody tr th {\n",
       "        vertical-align: top;\n",
       "    }\n",
       "\n",
       "    .dataframe thead th {\n",
       "        text-align: right;\n",
       "    }\n",
       "</style>\n",
       "<table border=\"1\" class=\"dataframe\">\n",
       "  <thead>\n",
       "    <tr style=\"text-align: right;\">\n",
       "      <th></th>\n",
       "      <th>descrip_year_built</th>\n",
       "      <th>descrip_sold_date</th>\n",
       "      <th>descrip_lot_sqft</th>\n",
       "      <th>descrip_sqft</th>\n",
       "      <th>garage_car_spaces</th>\n",
       "      <th>descrip_stories</th>\n",
       "      <th>descrip_beds</th>\n",
       "      <th>descrip_baths</th>\n",
       "      <th>property_type_condo</th>\n",
       "      <th>property_type_land</th>\n",
       "      <th>...</th>\n",
       "      <th>guest_parking</th>\n",
       "      <th>storm_shelter</th>\n",
       "      <th>exposed_brick</th>\n",
       "      <th>solar_power</th>\n",
       "      <th>security</th>\n",
       "      <th>pets_allowed</th>\n",
       "      <th>dining_room</th>\n",
       "      <th>wine_cellar</th>\n",
       "      <th>state_target_encoded</th>\n",
       "      <th>city_target_encoded</th>\n",
       "    </tr>\n",
       "  </thead>\n",
       "  <tbody>\n",
       "    <tr>\n",
       "      <th>1249</th>\n",
       "      <td>1993.0</td>\n",
       "      <td>2023-09-11</td>\n",
       "      <td>NaN</td>\n",
       "      <td>1309.0</td>\n",
       "      <td>0.0</td>\n",
       "      <td>1.0</td>\n",
       "      <td>3.0</td>\n",
       "      <td>2.0</td>\n",
       "      <td>0.0</td>\n",
       "      <td>0.0</td>\n",
       "      <td>...</td>\n",
       "      <td>0.0</td>\n",
       "      <td>0.0</td>\n",
       "      <td>0.0</td>\n",
       "      <td>0.0</td>\n",
       "      <td>0.0</td>\n",
       "      <td>0.0</td>\n",
       "      <td>0.0</td>\n",
       "      <td>0.0</td>\n",
       "      <td>402512.903226</td>\n",
       "      <td>NaN</td>\n",
       "    </tr>\n",
       "    <tr>\n",
       "      <th>1440</th>\n",
       "      <td>NaN</td>\n",
       "      <td>2023-12-22</td>\n",
       "      <td>1045440.0</td>\n",
       "      <td>NaN</td>\n",
       "      <td>0.0</td>\n",
       "      <td>0.0</td>\n",
       "      <td>0.0</td>\n",
       "      <td>0.0</td>\n",
       "      <td>0.0</td>\n",
       "      <td>1.0</td>\n",
       "      <td>...</td>\n",
       "      <td>0.0</td>\n",
       "      <td>0.0</td>\n",
       "      <td>0.0</td>\n",
       "      <td>0.0</td>\n",
       "      <td>0.0</td>\n",
       "      <td>0.0</td>\n",
       "      <td>0.0</td>\n",
       "      <td>0.0</td>\n",
       "      <td>194170.920000</td>\n",
       "      <td>NaN</td>\n",
       "    </tr>\n",
       "    <tr>\n",
       "      <th>1553</th>\n",
       "      <td>1977.0</td>\n",
       "      <td>2023-12-28</td>\n",
       "      <td>6970.0</td>\n",
       "      <td>1758.0</td>\n",
       "      <td>0.0</td>\n",
       "      <td>2.0</td>\n",
       "      <td>4.0</td>\n",
       "      <td>2.0</td>\n",
       "      <td>0.0</td>\n",
       "      <td>0.0</td>\n",
       "      <td>...</td>\n",
       "      <td>0.0</td>\n",
       "      <td>0.0</td>\n",
       "      <td>0.0</td>\n",
       "      <td>0.0</td>\n",
       "      <td>0.0</td>\n",
       "      <td>0.0</td>\n",
       "      <td>0.0</td>\n",
       "      <td>0.0</td>\n",
       "      <td>800629.268293</td>\n",
       "      <td>NaN</td>\n",
       "    </tr>\n",
       "    <tr>\n",
       "      <th>384</th>\n",
       "      <td>1937.0</td>\n",
       "      <td>2024-01-11</td>\n",
       "      <td>10193.0</td>\n",
       "      <td>1448.0</td>\n",
       "      <td>0.0</td>\n",
       "      <td>1.0</td>\n",
       "      <td>3.0</td>\n",
       "      <td>2.0</td>\n",
       "      <td>0.0</td>\n",
       "      <td>0.0</td>\n",
       "      <td>...</td>\n",
       "      <td>0.0</td>\n",
       "      <td>0.0</td>\n",
       "      <td>0.0</td>\n",
       "      <td>0.0</td>\n",
       "      <td>0.0</td>\n",
       "      <td>0.0</td>\n",
       "      <td>0.0</td>\n",
       "      <td>0.0</td>\n",
       "      <td>526830.000000</td>\n",
       "      <td>NaN</td>\n",
       "    </tr>\n",
       "    <tr>\n",
       "      <th>184</th>\n",
       "      <td>1998.0</td>\n",
       "      <td>2024-01-10</td>\n",
       "      <td>NaN</td>\n",
       "      <td>891.0</td>\n",
       "      <td>0.0</td>\n",
       "      <td>0.0</td>\n",
       "      <td>3.0</td>\n",
       "      <td>2.0</td>\n",
       "      <td>0.0</td>\n",
       "      <td>0.0</td>\n",
       "      <td>...</td>\n",
       "      <td>0.0</td>\n",
       "      <td>0.0</td>\n",
       "      <td>0.0</td>\n",
       "      <td>0.0</td>\n",
       "      <td>0.0</td>\n",
       "      <td>0.0</td>\n",
       "      <td>0.0</td>\n",
       "      <td>0.0</td>\n",
       "      <td>533692.307692</td>\n",
       "      <td>NaN</td>\n",
       "    </tr>\n",
       "    <tr>\n",
       "      <th>1276</th>\n",
       "      <td>1956.0</td>\n",
       "      <td>2024-01-12</td>\n",
       "      <td>7841.0</td>\n",
       "      <td>858.0</td>\n",
       "      <td>1.0</td>\n",
       "      <td>1.0</td>\n",
       "      <td>3.0</td>\n",
       "      <td>1.0</td>\n",
       "      <td>0.0</td>\n",
       "      <td>0.0</td>\n",
       "      <td>...</td>\n",
       "      <td>0.0</td>\n",
       "      <td>0.0</td>\n",
       "      <td>0.0</td>\n",
       "      <td>0.0</td>\n",
       "      <td>0.0</td>\n",
       "      <td>0.0</td>\n",
       "      <td>0.0</td>\n",
       "      <td>0.0</td>\n",
       "      <td>326162.500000</td>\n",
       "      <td>NaN</td>\n",
       "    </tr>\n",
       "    <tr>\n",
       "      <th>1283</th>\n",
       "      <td>NaN</td>\n",
       "      <td>2024-01-12</td>\n",
       "      <td>273992.0</td>\n",
       "      <td>NaN</td>\n",
       "      <td>0.0</td>\n",
       "      <td>0.0</td>\n",
       "      <td>0.0</td>\n",
       "      <td>0.0</td>\n",
       "      <td>0.0</td>\n",
       "      <td>1.0</td>\n",
       "      <td>...</td>\n",
       "      <td>0.0</td>\n",
       "      <td>0.0</td>\n",
       "      <td>0.0</td>\n",
       "      <td>0.0</td>\n",
       "      <td>0.0</td>\n",
       "      <td>0.0</td>\n",
       "      <td>0.0</td>\n",
       "      <td>0.0</td>\n",
       "      <td>326162.500000</td>\n",
       "      <td>NaN</td>\n",
       "    </tr>\n",
       "    <tr>\n",
       "      <th>862</th>\n",
       "      <td>2010.0</td>\n",
       "      <td>2024-01-05</td>\n",
       "      <td>11761.0</td>\n",
       "      <td>2152.0</td>\n",
       "      <td>2.0</td>\n",
       "      <td>2.0</td>\n",
       "      <td>3.0</td>\n",
       "      <td>3.0</td>\n",
       "      <td>0.0</td>\n",
       "      <td>0.0</td>\n",
       "      <td>...</td>\n",
       "      <td>0.0</td>\n",
       "      <td>0.0</td>\n",
       "      <td>0.0</td>\n",
       "      <td>0.0</td>\n",
       "      <td>0.0</td>\n",
       "      <td>0.0</td>\n",
       "      <td>0.0</td>\n",
       "      <td>0.0</td>\n",
       "      <td>379517.900000</td>\n",
       "      <td>NaN</td>\n",
       "    </tr>\n",
       "  </tbody>\n",
       "</table>\n",
       "<p>8 rows × 46 columns</p>\n",
       "</div>"
      ],
      "text/plain": [
       "      descrip_year_built descrip_sold_date  descrip_lot_sqft  descrip_sqft  \\\n",
       "1249              1993.0        2023-09-11               NaN        1309.0   \n",
       "1440                 NaN        2023-12-22         1045440.0           NaN   \n",
       "1553              1977.0        2023-12-28            6970.0        1758.0   \n",
       "384               1937.0        2024-01-11           10193.0        1448.0   \n",
       "184               1998.0        2024-01-10               NaN         891.0   \n",
       "1276              1956.0        2024-01-12            7841.0         858.0   \n",
       "1283                 NaN        2024-01-12          273992.0           NaN   \n",
       "862               2010.0        2024-01-05           11761.0        2152.0   \n",
       "\n",
       "      garage_car_spaces  descrip_stories  descrip_beds  descrip_baths  \\\n",
       "1249                0.0              1.0           3.0            2.0   \n",
       "1440                0.0              0.0           0.0            0.0   \n",
       "1553                0.0              2.0           4.0            2.0   \n",
       "384                 0.0              1.0           3.0            2.0   \n",
       "184                 0.0              0.0           3.0            2.0   \n",
       "1276                1.0              1.0           3.0            1.0   \n",
       "1283                0.0              0.0           0.0            0.0   \n",
       "862                 2.0              2.0           3.0            3.0   \n",
       "\n",
       "      property_type_condo  property_type_land  ...  guest_parking  \\\n",
       "1249                  0.0                 0.0  ...            0.0   \n",
       "1440                  0.0                 1.0  ...            0.0   \n",
       "1553                  0.0                 0.0  ...            0.0   \n",
       "384                   0.0                 0.0  ...            0.0   \n",
       "184                   0.0                 0.0  ...            0.0   \n",
       "1276                  0.0                 0.0  ...            0.0   \n",
       "1283                  0.0                 1.0  ...            0.0   \n",
       "862                   0.0                 0.0  ...            0.0   \n",
       "\n",
       "      storm_shelter  exposed_brick  solar_power  security  pets_allowed  \\\n",
       "1249            0.0            0.0          0.0       0.0           0.0   \n",
       "1440            0.0            0.0          0.0       0.0           0.0   \n",
       "1553            0.0            0.0          0.0       0.0           0.0   \n",
       "384             0.0            0.0          0.0       0.0           0.0   \n",
       "184             0.0            0.0          0.0       0.0           0.0   \n",
       "1276            0.0            0.0          0.0       0.0           0.0   \n",
       "1283            0.0            0.0          0.0       0.0           0.0   \n",
       "862             0.0            0.0          0.0       0.0           0.0   \n",
       "\n",
       "      dining_room  wine_cellar  state_target_encoded  city_target_encoded  \n",
       "1249          0.0          0.0         402512.903226                  NaN  \n",
       "1440          0.0          0.0         194170.920000                  NaN  \n",
       "1553          0.0          0.0         800629.268293                  NaN  \n",
       "384           0.0          0.0         526830.000000                  NaN  \n",
       "184           0.0          0.0         533692.307692                  NaN  \n",
       "1276          0.0          0.0         326162.500000                  NaN  \n",
       "1283          0.0          0.0         326162.500000                  NaN  \n",
       "862           0.0          0.0         379517.900000                  NaN  \n",
       "\n",
       "[8 rows x 46 columns]"
      ]
     },
     "execution_count": 87,
     "metadata": {},
     "output_type": "execute_result"
    }
   ],
   "source": [
    "X_test[X_test['city_target_encoded'].isna()]"
   ]
  },
  {
   "cell_type": "markdown",
   "metadata": {},
   "source": [
    "Dealing with missing data in 'descrip_year_built'"
   ]
  },
  {
   "cell_type": "code",
   "execution_count": 88,
   "metadata": {},
   "outputs": [],
   "source": [
    "from sklearn.impute import SimpleImputer\n",
    "\n",
    "# Impute missing values in 'descrip_year_built'\n",
    "imputer = SimpleImputer(strategy='median')  # We are using median\n",
    "\n",
    "# Fit the imputer on the training data and transform the training set\n",
    "X_train['descrip_year_built'] = imputer.fit_transform(X_train[['descrip_year_built']])\n",
    "\n",
    "# Transform the test set using the fitted imputer\n",
    "X_test['descrip_year_built'] = imputer.transform(X_test[['descrip_year_built']])"
   ]
  },
  {
   "cell_type": "code",
   "execution_count": 89,
   "metadata": {},
   "outputs": [
    {
     "data": {
      "text/html": [
       "<div>\n",
       "<style scoped>\n",
       "    .dataframe tbody tr th:only-of-type {\n",
       "        vertical-align: middle;\n",
       "    }\n",
       "\n",
       "    .dataframe tbody tr th {\n",
       "        vertical-align: top;\n",
       "    }\n",
       "\n",
       "    .dataframe thead th {\n",
       "        text-align: right;\n",
       "    }\n",
       "</style>\n",
       "<table border=\"1\" class=\"dataframe\">\n",
       "  <thead>\n",
       "    <tr style=\"text-align: right;\">\n",
       "      <th></th>\n",
       "      <th>descrip_year_built</th>\n",
       "      <th>descrip_sold_date</th>\n",
       "      <th>descrip_lot_sqft</th>\n",
       "      <th>descrip_sqft</th>\n",
       "      <th>garage_car_spaces</th>\n",
       "      <th>descrip_stories</th>\n",
       "      <th>descrip_beds</th>\n",
       "      <th>descrip_baths</th>\n",
       "      <th>property_type_condo</th>\n",
       "      <th>property_type_land</th>\n",
       "      <th>...</th>\n",
       "      <th>guest_parking</th>\n",
       "      <th>storm_shelter</th>\n",
       "      <th>exposed_brick</th>\n",
       "      <th>solar_power</th>\n",
       "      <th>security</th>\n",
       "      <th>pets_allowed</th>\n",
       "      <th>dining_room</th>\n",
       "      <th>wine_cellar</th>\n",
       "      <th>state_target_encoded</th>\n",
       "      <th>city_target_encoded</th>\n",
       "    </tr>\n",
       "  </thead>\n",
       "  <tbody>\n",
       "  </tbody>\n",
       "</table>\n",
       "<p>0 rows × 46 columns</p>\n",
       "</div>"
      ],
      "text/plain": [
       "Empty DataFrame\n",
       "Columns: [descrip_year_built, descrip_sold_date, descrip_lot_sqft, descrip_sqft, garage_car_spaces, descrip_stories, descrip_beds, descrip_baths, property_type_condo, property_type_land, property_type_mobile, property_type_multi_family, property_type_other_unknown, property_type_single_family, property_type_townhouse, has_parking, heating, porch, laundry_facilities, notable_kitchen, notable_ceiling, recently_updated, multimedia_room, enclosed_yard, cul_de_sac, family_room, hardwood_floors, basement, rental_property, furniture, private_courtyard, central_air, dishwasher, fireplace, den_or_office, smart_homes, guest_parking, storm_shelter, exposed_brick, solar_power, security, pets_allowed, dining_room, wine_cellar, state_target_encoded, city_target_encoded]\n",
       "Index: []\n",
       "\n",
       "[0 rows x 46 columns]"
      ]
     },
     "execution_count": 89,
     "metadata": {},
     "output_type": "execute_result"
    }
   ],
   "source": [
    "X_train[X_train['descrip_year_built'].isna()]"
   ]
  },
  {
   "cell_type": "markdown",
   "metadata": {},
   "source": [
    "Dealing with 'descrip_lot_sqft' and 'descrip_sqft'"
   ]
  },
  {
   "cell_type": "code",
   "execution_count": 90,
   "metadata": {},
   "outputs": [],
   "source": [
    "# Initialize SimpleImputer using median strategy\n",
    "lot_sqft_imputer = SimpleImputer(strategy='median')  # using median for now\n",
    "sqft_imputer = SimpleImputer(strategy='median')  # using median for now\n",
    "\n",
    "# Fit the imputer on the training data and transform the train set\n",
    "X_train['descrip_lot_sqft'] = lot_sqft_imputer.fit_transform(X_train[['descrip_lot_sqft']])\n",
    "X_train['descrip_sqft'] = sqft_imputer.fit_transform(X_train[['descrip_sqft']])\n",
    "\n",
    "# Use the same imputer (fitted on the training data) to transform the test set\n",
    "X_test['descrip_lot_sqft'] = lot_sqft_imputer.transform(X_test[['descrip_lot_sqft']])\n",
    "X_test['descrip_sqft'] = sqft_imputer.transform(X_test[['descrip_sqft']])"
   ]
  },
  {
   "cell_type": "code",
   "execution_count": 91,
   "metadata": {},
   "outputs": [
    {
     "name": "stdout",
     "output_type": "stream",
     "text": [
      "      descrip_lot_sqft  descrip_sqft\n",
      "199             5885.0        1931.0\n",
      "1382            3049.0        1476.0\n",
      "801             8538.0        2375.0\n",
      "1240            7841.0        1634.0\n",
      "1594            2749.0        2000.0\n",
      "      descrip_lot_sqft  descrip_sqft\n",
      "323             4497.0        1848.0\n",
      "409             3206.0        3206.0\n",
      "406             4356.0        1086.0\n",
      "463            13068.0         875.0\n",
      "1141            6534.0        1056.0\n"
     ]
    }
   ],
   "source": [
    "print(X_train[['descrip_lot_sqft', 'descrip_sqft']].head())\n",
    "print(X_test[['descrip_lot_sqft', 'descrip_sqft']].head())"
   ]
  },
  {
   "cell_type": "code",
   "execution_count": 92,
   "metadata": {},
   "outputs": [],
   "source": [
    "# Save the DataFrames to pickle\n",
    "X_train.to_pickle('pickles/X_train.pkl')\n",
    "\n",
    "X_test.to_pickle('pickles/X_test.pkl')\n",
    "\n",
    "y_train.to_pickle('pickles/y_train.pkl')\n",
    "\n",
    "y_test.to_pickle('pickles/y_test.pkl')\n"
   ]
  },
  {
   "cell_type": "markdown",
   "metadata": {},
   "source": [
    "## Extra Data - STRETCH\n",
    "\n",
    "> This doesn't need to be part of your Minimum Viable Product (MVP). We recommend you write a functional, basic pipeline first, then circle back and join new data if you have time\n",
    "\n",
    "> If you do this, try to write your downstream steps in a way it will still work on a dataframe with different features!\n",
    "\n",
    "- You're not limited to just using the data provided to you. Think/ do some research about other features that might be useful to predict housing prices. \n",
    "- Can you import and join this data? Make sure you do any necessary preprocessing and make sure it is joined correctly.\n",
    "- Example suggestion: could mortgage interest rates in the year of the listing affect the price? "
   ]
  },
  {
   "cell_type": "code",
   "execution_count": 93,
   "metadata": {},
   "outputs": [],
   "source": [
    "# import, join and preprocess new data here"
   ]
  },
  {
   "cell_type": "markdown",
   "metadata": {},
   "source": [
    "## EDA/ Visualization\n",
    "\n",
    "Remember all of the EDA that you've been learning about?  Now is a perfect time for it!\n",
    "- Look at distributions of numerical variables to see the shape of the data and detect outliers.    \n",
    "    - Consider transforming very skewed variables\n",
    "- Scatterplots of a numerical variable and the target go a long way to show correlations.\n",
    "- A heatmap will help detect highly correlated features, and we don't want these.\n",
    "    - You may have too many features to do this, in which case you can simply compute the most correlated feature-pairs and list them\n",
    "- Is there any overlap in any of the features? (redundant information, like number of this or that room...)"
   ]
  },
  {
   "cell_type": "markdown",
   "metadata": {},
   "source": [
    "There was redundancy in a few columns, such as the garage tags, and the bathroom count, but those were all dealth with above. "
   ]
  },
  {
   "cell_type": "code",
   "execution_count": 94,
   "metadata": {},
   "outputs": [],
   "source": [
    "import matplotlib\n",
    "import matplotlib.pyplot as plt"
   ]
  },
  {
   "cell_type": "code",
   "execution_count": 96,
   "metadata": {},
   "outputs": [
    {
     "data": {
      "text/plain": [
       "Text(0.5, 1.0, 'vs # baths')"
      ]
     },
     "execution_count": 96,
     "metadata": {},
     "output_type": "execute_result"
    },
    {
     "data": {
      "image/png": "[encoded data removed]",
      "text/plain": [
       "<Figure size 800x800 with 6 Axes>"
      ]
     },
     "metadata": {},
     "output_type": "display_data"
    }
   ],
   "source": [
    "use_x = pd.read_pickle('pickles/X_train.pkl')\n",
    "use_y = pd.read_pickle('pickles/y_train.pkl')\n",
    "\n",
    "y = use_y\n",
    "a = use_x['descrip_year_built']\n",
    "b = use_x['descrip_sold_date']\n",
    "\n",
    "c = use_x['descrip_lot_sqft']\n",
    "d = use_x['descrip_sqft']\n",
    "\n",
    "e =use_x['state_target_encoded']\n",
    "f = use_x['state_target_encoded']\n",
    "\n",
    "g = use_x['descrip_beds']\n",
    "h = use_x['descrip_baths']\n",
    "\n",
    "\n",
    "plt.figure(figsize=(8,8))\n",
    "plt.subplot(3,2,1)\n",
    "plt.scatter(a,y,alpha=0.6)\n",
    "plt.xticks([])\n",
    "plt.title('vs year built')\n",
    "\n",
    "plt.subplot(3,2,2)\n",
    "plt.scatter(b,y,alpha=0.6)\n",
    "plt.xticks([])\n",
    "plt.title('vs sold date')\n",
    "\n",
    "plt.subplot(3,2,3)\n",
    "plt.scatter(c,y,alpha=0.6)\n",
    "plt.xticks([])\n",
    "plt.title('vs lot size')\n",
    "\n",
    "plt.subplot(3,2,4)\n",
    "plt.scatter(d,y,alpha=0.6)\n",
    "plt.xticks([])\n",
    "plt.title('vs house size')\n",
    "\n",
    "plt.subplot(3,2,5)\n",
    "plt.scatter(e,y,alpha=0.6)\n",
    "plt.xticks([])\n",
    "plt.title('vs # beds')\n",
    "\n",
    "plt.subplot(3,2,6)\n",
    "plt.scatter(f,y,alpha=0.6)\n",
    "plt.xticks([])\n",
    "plt.title('vs # baths')\n"
   ]
  },
  {
   "cell_type": "markdown",
   "metadata": {},
   "source": [
    "## Scaling and Finishing Up"
   ]
  },
  {
   "cell_type": "markdown",
   "metadata": {},
   "source": [
    "Now is a great time to scale the data and save it once it's preprocessed.\n",
    "- You can save it in your data folder, but you may want to make a new `processed/` subfolder to keep it organized"
   ]
  },
  {
   "cell_type": "markdown",
   "metadata": {},
   "source": [
    "Our scaling is actually in the model notebook. "
   ]
  }
 ],
 "metadata": {
  "kernelspec": {
   "display_name": "base",
   "language": "python",
   "name": "python3"
  },
  "language_info": {
   "codemirror_mode": {
    "name": "ipython",
    "version": 3
   },
   "file_extension": ".py",
   "mimetype": "text/x-python",
   "name": "python",
   "nbconvert_exporter": "python",
   "pygments_lexer": "ipython3",
   "version": "3.12.4"
  }
 },
 "nbformat": 4,
 "nbformat_minor": 2
}
