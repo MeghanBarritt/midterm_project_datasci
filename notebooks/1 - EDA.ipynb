{
 "cells": [
  {
   "cell_type": "markdown",
   "metadata": {},
   "source": [
    "# EDA"
   ]
  },
  {
   "cell_type": "markdown",
   "metadata": {},
   "source": [
    "\n",
    "- The os module has a perfect method to list files in a directory.\n",
    "- Pandas json normalize could work here but is not necessary to convert the JSON data to a dataframe.\n",
    "- You may need a nested for-loop to access each sale!\n",
    "- We've put a lot of time into creating the structure of this repository, and it's a good example for future projects.  In the file functions_variables.py, there is an example function that you can import and use.  If you have any variables, functions or classes that you want to make, they can be put in the functions_variables.py file and imported into a notebook.  Note that only .py files can be imported into a notebook. If you want to import everything from a .py file, you can use the following:\n",
    "```python\n",
    "from functions_variables import *\n",
    "```\n",
    "If you just import functions_variables, then each object from the file will need to be prepended with \"functions_variables\"\\\n",
    "Using this .py file will keep your notebooks very organized and make it easier to reuse code between notebooks."
   ]
  },
  {
   "cell_type": "code",
   "execution_count": 56,
   "metadata": {},
   "outputs": [],
   "source": [
    "# (this is not an exhaustive list of libraries)\n",
    "import pandas as pd\n",
    "import numpy as np\n",
    "import os\n",
    "import json\n",
    "from pprint import pprint"
   ]
  },
  {
   "cell_type": "markdown",
   "metadata": {},
   "source": [
    "## Data Importing"
   ]
  },
  {
   "cell_type": "code",
   "execution_count": 57,
   "metadata": {},
   "outputs": [],
   "source": [
    "# load one file first to see what type of data you're dealing with and what attributes it has"
   ]
  },
  {
   "cell_type": "code",
   "execution_count": 58,
   "metadata": {},
   "outputs": [],
   "source": [
    "# loop over all files and put them into a dataframe\n",
    "from functions_importing import get_data\n"
   ]
  },
  {
   "cell_type": "code",
   "execution_count": 59,
   "metadata": {},
   "outputs": [],
   "source": [
    "filepath = r\"C:\\Users\\mebar\\Documents\\LHL-DataSci\\Projects\\midterm_project_housing_prices\\Data\""
   ]
  },
  {
   "cell_type": "code",
   "execution_count": 60,
   "metadata": {},
   "outputs": [
    {
     "data": {
      "text/html": [
       "<div>\n",
       "<style scoped>\n",
       "    .dataframe tbody tr th:only-of-type {\n",
       "        vertical-align: middle;\n",
       "    }\n",
       "\n",
       "    .dataframe tbody tr th {\n",
       "        vertical-align: top;\n",
       "    }\n",
       "\n",
       "    .dataframe thead th {\n",
       "        text-align: right;\n",
       "    }\n",
       "</style>\n",
       "<table border=\"1\" class=\"dataframe\">\n",
       "  <thead>\n",
       "    <tr style=\"text-align: right;\">\n",
       "      <th></th>\n",
       "      <th>tags</th>\n",
       "      <th>status</th>\n",
       "      <th>list_date</th>\n",
       "      <th>open_houses</th>\n",
       "      <th>descrip_year_built</th>\n",
       "      <th>descrip_baths_3qtr</th>\n",
       "      <th>descrip_sold_date</th>\n",
       "      <th>descrip_sold_price</th>\n",
       "      <th>descrip_baths_full</th>\n",
       "      <th>descrip_name</th>\n",
       "      <th>...</th>\n",
       "      <th>flags_is_foreclosure</th>\n",
       "      <th>flags_is_plan</th>\n",
       "      <th>flags_is_coming_soon</th>\n",
       "      <th>flags_is_new_listing</th>\n",
       "      <th>community</th>\n",
       "      <th>products</th>\n",
       "      <th>listing_id</th>\n",
       "      <th>price_reduced_amount</th>\n",
       "      <th>location_state</th>\n",
       "      <th>location_city</th>\n",
       "    </tr>\n",
       "  </thead>\n",
       "  <tbody>\n",
       "    <tr>\n",
       "      <th>0</th>\n",
       "      <td>[carport, community_outdoor_space, cul_de_sac,...</td>\n",
       "      <td>sold</td>\n",
       "      <td>2023-06-29T21:16:25.000000Z</td>\n",
       "      <td>None</td>\n",
       "      <td>1963.0</td>\n",
       "      <td>NaN</td>\n",
       "      <td>2023-09-18</td>\n",
       "      <td>NaN</td>\n",
       "      <td>2.0</td>\n",
       "      <td>None</td>\n",
       "      <td>...</td>\n",
       "      <td>None</td>\n",
       "      <td>None</td>\n",
       "      <td>None</td>\n",
       "      <td>False</td>\n",
       "      <td>None</td>\n",
       "      <td>{'brand_name': 'basic_opt_in'}</td>\n",
       "      <td>2957241843</td>\n",
       "      <td>45000.0</td>\n",
       "      <td>Alaska</td>\n",
       "      <td>Juneau</td>\n",
       "    </tr>\n",
       "    <tr>\n",
       "      <th>1</th>\n",
       "      <td>None</td>\n",
       "      <td>sold</td>\n",
       "      <td>None</td>\n",
       "      <td>None</td>\n",
       "      <td>NaN</td>\n",
       "      <td>NaN</td>\n",
       "      <td>2023-08-22</td>\n",
       "      <td>NaN</td>\n",
       "      <td>NaN</td>\n",
       "      <td>None</td>\n",
       "      <td>...</td>\n",
       "      <td>None</td>\n",
       "      <td>None</td>\n",
       "      <td>None</td>\n",
       "      <td>None</td>\n",
       "      <td>None</td>\n",
       "      <td>None</td>\n",
       "      <td>None</td>\n",
       "      <td>NaN</td>\n",
       "      <td>Alaska</td>\n",
       "      <td>Juneau</td>\n",
       "    </tr>\n",
       "    <tr>\n",
       "      <th>2</th>\n",
       "      <td>None</td>\n",
       "      <td>sold</td>\n",
       "      <td>None</td>\n",
       "      <td>None</td>\n",
       "      <td>NaN</td>\n",
       "      <td>NaN</td>\n",
       "      <td>2023-08-22</td>\n",
       "      <td>NaN</td>\n",
       "      <td>NaN</td>\n",
       "      <td>None</td>\n",
       "      <td>...</td>\n",
       "      <td>None</td>\n",
       "      <td>None</td>\n",
       "      <td>None</td>\n",
       "      <td>None</td>\n",
       "      <td>None</td>\n",
       "      <td>None</td>\n",
       "      <td>None</td>\n",
       "      <td>NaN</td>\n",
       "      <td>Alaska</td>\n",
       "      <td>Juneau</td>\n",
       "    </tr>\n",
       "    <tr>\n",
       "      <th>3</th>\n",
       "      <td>None</td>\n",
       "      <td>sold</td>\n",
       "      <td>None</td>\n",
       "      <td>None</td>\n",
       "      <td>NaN</td>\n",
       "      <td>NaN</td>\n",
       "      <td>2023-08-21</td>\n",
       "      <td>NaN</td>\n",
       "      <td>NaN</td>\n",
       "      <td>None</td>\n",
       "      <td>...</td>\n",
       "      <td>None</td>\n",
       "      <td>None</td>\n",
       "      <td>None</td>\n",
       "      <td>None</td>\n",
       "      <td>None</td>\n",
       "      <td>None</td>\n",
       "      <td>None</td>\n",
       "      <td>NaN</td>\n",
       "      <td>Alaska</td>\n",
       "      <td>Juneau</td>\n",
       "    </tr>\n",
       "    <tr>\n",
       "      <th>4</th>\n",
       "      <td>None</td>\n",
       "      <td>sold</td>\n",
       "      <td>None</td>\n",
       "      <td>None</td>\n",
       "      <td>NaN</td>\n",
       "      <td>NaN</td>\n",
       "      <td>2023-08-21</td>\n",
       "      <td>NaN</td>\n",
       "      <td>NaN</td>\n",
       "      <td>None</td>\n",
       "      <td>...</td>\n",
       "      <td>None</td>\n",
       "      <td>None</td>\n",
       "      <td>None</td>\n",
       "      <td>None</td>\n",
       "      <td>None</td>\n",
       "      <td>None</td>\n",
       "      <td>None</td>\n",
       "      <td>NaN</td>\n",
       "      <td>Alaska</td>\n",
       "      <td>Juneau</td>\n",
       "    </tr>\n",
       "  </tbody>\n",
       "</table>\n",
       "<p>5 rows × 39 columns</p>\n",
       "</div>"
      ],
      "text/plain": [
       "                                                tags status  \\\n",
       "0  [carport, community_outdoor_space, cul_de_sac,...   sold   \n",
       "1                                               None   sold   \n",
       "2                                               None   sold   \n",
       "3                                               None   sold   \n",
       "4                                               None   sold   \n",
       "\n",
       "                     list_date open_houses  descrip_year_built  \\\n",
       "0  2023-06-29T21:16:25.000000Z        None              1963.0   \n",
       "1                         None        None                 NaN   \n",
       "2                         None        None                 NaN   \n",
       "3                         None        None                 NaN   \n",
       "4                         None        None                 NaN   \n",
       "\n",
       "   descrip_baths_3qtr descrip_sold_date  descrip_sold_price  \\\n",
       "0                 NaN        2023-09-18                 NaN   \n",
       "1                 NaN        2023-08-22                 NaN   \n",
       "2                 NaN        2023-08-22                 NaN   \n",
       "3                 NaN        2023-08-21                 NaN   \n",
       "4                 NaN        2023-08-21                 NaN   \n",
       "\n",
       "   descrip_baths_full descrip_name  ...  flags_is_foreclosure  flags_is_plan  \\\n",
       "0                 2.0         None  ...                  None           None   \n",
       "1                 NaN         None  ...                  None           None   \n",
       "2                 NaN         None  ...                  None           None   \n",
       "3                 NaN         None  ...                  None           None   \n",
       "4                 NaN         None  ...                  None           None   \n",
       "\n",
       "   flags_is_coming_soon  flags_is_new_listing community  \\\n",
       "0                  None                 False      None   \n",
       "1                  None                  None      None   \n",
       "2                  None                  None      None   \n",
       "3                  None                  None      None   \n",
       "4                  None                  None      None   \n",
       "\n",
       "                         products  listing_id  price_reduced_amount  \\\n",
       "0  {'brand_name': 'basic_opt_in'}  2957241843               45000.0   \n",
       "1                            None        None                   NaN   \n",
       "2                            None        None                   NaN   \n",
       "3                            None        None                   NaN   \n",
       "4                            None        None                   NaN   \n",
       "\n",
       "   location_state location_city  \n",
       "0          Alaska        Juneau  \n",
       "1          Alaska        Juneau  \n",
       "2          Alaska        Juneau  \n",
       "3          Alaska        Juneau  \n",
       "4          Alaska        Juneau  \n",
       "\n",
       "[5 rows x 39 columns]"
      ]
     },
     "execution_count": 60,
     "metadata": {},
     "output_type": "execute_result"
    }
   ],
   "source": [
    "raw_data = get_data(filepath)\n",
    "raw_data.head()"
   ]
  },
  {
   "cell_type": "markdown",
   "metadata": {},
   "source": [
    "## Data Cleaning and Wrangling"
   ]
  },
  {
   "cell_type": "markdown",
   "metadata": {},
   "source": [
    "At this point, ensure that you have all sales in a dataframe.\n",
    "- Take a quick look at your data (i.e. `.info()`, `.describe()`) - what do you see?\n",
    "- Is each cell one value, or do some cells have lists?\n",
    "- What are the data types of each column?\n",
    "- Some sales may not actually include the sale price (target).  These rows should be dropped.\n",
    "- There are a lot of NA/None values.  Should these be dropped or replaced with something?\n",
    "    - You can drop rows or use various methods to fills NA's - use your best judgement for each column \n",
    "    - i.e. for some columns (like Garage), NA probably just means no Garage, so 0\n",
    "- Drop columns that aren't needed\n",
    "    - Don't keep the list price because it will be too close to the sale price. Assume we want to predict the price of houses not yet listed"
   ]
  },
  {
   "cell_type": "code",
   "execution_count": 61,
   "metadata": {},
   "outputs": [],
   "source": [
    "from functions_importing import extract_tags"
   ]
  },
  {
   "cell_type": "code",
   "execution_count": 62,
   "metadata": {},
   "outputs": [],
   "source": [
    "with_tags = extract_tags(raw_data)"
   ]
  },
  {
   "cell_type": "code",
   "execution_count": 63,
   "metadata": {},
   "outputs": [
    {
     "data": {
      "text/plain": [
       "(8159, 194)"
      ]
     },
     "execution_count": 63,
     "metadata": {},
     "output_type": "execute_result"
    }
   ],
   "source": [
    "data = with_tags.copy()\n",
    "data.shape"
   ]
  },
  {
   "cell_type": "markdown",
   "metadata": {},
   "source": [
    "Empty columns: "
   ]
  },
  {
   "cell_type": "code",
   "execution_count": 64,
   "metadata": {},
   "outputs": [
    {
     "data": {
      "text/plain": [
       "descrip_name  descrip_baths_1qtr  flags_is_new_construction  flags_is_for_rent  flags_is_subdivision  flags_is_contingent  flags_is_pending  flags_is_plan  flags_is_coming_soon\n",
       "True          True                True                       True               True                  True                 True              True           True                    8159\n",
       "Name: count, dtype: int64"
      ]
     },
     "execution_count": 64,
     "metadata": {},
     "output_type": "execute_result"
    }
   ],
   "source": [
    "data.loc[:,['descrip_name','descrip_baths_1qtr','flags_is_new_construction','flags_is_for_rent','flags_is_subdivision','flags_is_contingent',\n",
    "            'flags_is_pending','flags_is_plan','flags_is_coming_soon','open_houses']].isna().value_counts()"
   ]
  },
  {
   "cell_type": "code",
   "execution_count": 65,
   "metadata": {},
   "outputs": [],
   "source": [
    "# drop empty columns, old tags column\n",
    "data = data.drop(['descrip_name','descrip_baths_1qtr','flags_is_new_construction','flags_is_for_rent','flags_is_subdivision','flags_is_contingent',\n",
    "            'flags_is_pending','flags_is_plan','flags_is_coming_soon','tags'],axis=1)"
   ]
  },
  {
   "cell_type": "markdown",
   "metadata": {},
   "source": [
    "'community', 'flags_is_foreclosure', 'courtyard_entry', 'well_water' and 'open_house' are basically empty; flags_is_new_listing and status have all the same value, so drop them as well."
   ]
  },
  {
   "cell_type": "code",
   "execution_count": 66,
   "metadata": {},
   "outputs": [
    {
     "name": "stdout",
     "output_type": "stream",
     "text": [
      "community: rows with data: 5\n"
     ]
    },
    {
     "data": {
      "text/plain": [
       "flags_is_new_listing\n",
       "False    7752\n",
       "Name: count, dtype: int64"
      ]
     },
     "execution_count": 66,
     "metadata": {},
     "output_type": "execute_result"
    }
   ],
   "source": [
    "print('community: rows with data:',len(data[~data['community'].isna()]))\n",
    "data['flags_is_new_listing'].value_counts()"
   ]
  },
  {
   "cell_type": "code",
   "execution_count": null,
   "metadata": {},
   "outputs": [],
   "source": [
    "data = data.drop(['community','flags_is_foreclosure','flags_is_new_listing','status','open_house','courtyard_entry','well_water'],axis=1)"
   ]
  },
  {
   "cell_type": "markdown",
   "metadata": {},
   "source": [
    "None of these columns contain anything that's interesting for regression, so they are being dropped."
   ]
  },
  {
   "cell_type": "code",
   "execution_count": 116,
   "metadata": {},
   "outputs": [
    {
     "data": {
      "text/plain": [
       "products\n",
       "{'brand_name': 'essentials'}         4869\n",
       "{'brand_name': 'basic_opt_in'}       2176\n",
       "{'brand_name': 'advantage_brand'}     587\n",
       "{'brand_name': 'advantage_pro'}        10\n",
       "Name: count, dtype: int64"
      ]
     },
     "metadata": {},
     "output_type": "display_data"
    },
    {
     "data": {
      "text/plain": [
       "lead_attributes\n",
       "{'show_contact_an_agent': True}     7915\n",
       "{'show_contact_an_agent': False}      93\n",
       "Name: count, dtype: int64"
      ]
     },
     "metadata": {},
     "output_type": "display_data"
    }
   ],
   "source": [
    "display(data['products'].value_counts())\n",
    "display(data['lead_attributes'].value_counts())"
   ]
  },
  {
   "cell_type": "code",
   "execution_count": null,
   "metadata": {},
   "outputs": [],
   "source": [
    "date = data.drop(['products','lead_attributes'],axis=1)"
   ]
  },
  {
   "cell_type": "markdown",
   "metadata": {},
   "source": [
    "Given the above statement that the list price is too close to the sold price, it can be used to fill in missing values in the sold price column."
   ]
  },
  {
   "cell_type": "code",
   "execution_count": 68,
   "metadata": {},
   "outputs": [
    {
     "name": "stdout",
     "output_type": "stream",
     "text": [
      "missing values in \"sold price\": 1443\n"
     ]
    }
   ],
   "source": [
    "print('missing values in \"sold price\":',len(data[data['descrip_sold_price'].isna()]))"
   ]
  },
  {
   "cell_type": "code",
   "execution_count": null,
   "metadata": {},
   "outputs": [],
   "source": [
    "data['descrip_sold_price'] = data['descrip_sold_price'].fillna(data['list_price'])"
   ]
  },
  {
   "cell_type": "markdown",
   "metadata": {},
   "source": [
    "However, rows with no price info at all will need to be dropped, and we can now drop list_price."
   ]
  },
  {
   "cell_type": "code",
   "execution_count": 70,
   "metadata": {},
   "outputs": [
    {
     "name": "stdout",
     "output_type": "stream",
     "text": [
      "no price info: 151\n"
     ]
    }
   ],
   "source": [
    "print('no price info:',len(data[(data['descrip_sold_price'].isna()) & (data['list_price'].isna())]))"
   ]
  },
  {
   "cell_type": "code",
   "execution_count": 110,
   "metadata": {},
   "outputs": [],
   "source": [
    "# drop rows that still have NaNs \n",
    "data = data.dropna(subset=['descrip_sold_price']).drop('list_price',axis=1)"
   ]
  },
  {
   "cell_type": "markdown",
   "metadata": {},
   "source": [
    "We don't think we are going to be using the price reduction data, and flags_is_price_reduced is broken, showing True _and_ False with numeric values in the price_reduced_amount column, so those columns are being dropped. "
   ]
  },
  {
   "cell_type": "code",
   "execution_count": 71,
   "metadata": {},
   "outputs": [],
   "source": [
    "data = data.drop(['price_reduced_amount','flags_is_price_reduced'],axis=1)"
   ]
  },
  {
   "cell_type": "markdown",
   "metadata": {},
   "source": [
    "The hoa tags also have issues, and are mostly empty, so they are being dropped. "
   ]
  },
  {
   "cell_type": "code",
   "execution_count": 72,
   "metadata": {},
   "outputs": [
    {
     "name": "stdout",
     "output_type": "stream",
     "text": [
      "has any hoa tag: 291\n",
      "yes hoa AND no hoa: 15\n"
     ]
    }
   ],
   "source": [
    "print('has any hoa tag:',len(data[(data['hoa']>0)|(data['low_hoa']>0)|(data['no_hoa']>0)]))\n",
    "print('yes hoa AND no hoa:',len(data[(data['hoa']>0) & (data['no_hoa']>0)]))"
   ]
  },
  {
   "cell_type": "code",
   "execution_count": 73,
   "metadata": {},
   "outputs": [],
   "source": [
    "data = data.drop(['hoa','low_hoa','no_hoa'],axis=1)"
   ]
  },
  {
   "cell_type": "markdown",
   "metadata": {},
   "source": [
    "It is unclear what the floor_plan tag is related to, as all buildings by definition have a floor plan. Given that this tag is apparently optional it cannot be used to draw any conclusions. The open_floor_plan tag only occurs alongside the floor_plan tag, but also probably can't be used to draw conclusions, given the many missing values. A lack of open floor plan tag doesn't necessarily mean the property _isn't_ open plan. We are dropping those columns."
   ]
  },
  {
   "cell_type": "code",
   "execution_count": 74,
   "metadata": {},
   "outputs": [
    {
     "name": "stdout",
     "output_type": "stream",
     "text": [
      "floor plan: 1057\n",
      "open + floor: 607\n"
     ]
    }
   ],
   "source": [
    "print('floor plan:',len(data[data['floor_plan']>0]))\n",
    "print('open + floor:',len(data[(data['open_floor_plan']>0) & (data['floor_plan']>0)]))"
   ]
  },
  {
   "cell_type": "code",
   "execution_count": 75,
   "metadata": {},
   "outputs": [],
   "source": [
    "data = data.drop(['floor_plan','open_floor_plan'],axis=1)"
   ]
  },
  {
   "cell_type": "markdown",
   "metadata": {},
   "source": [
    "We have decided we are not going to work with the tags dealing with tags related to features of the surrounding area unless we have time left over, so those are going to be dropped for now."
   ]
  },
  {
   "cell_type": "code",
   "execution_count": null,
   "metadata": {},
   "outputs": [],
   "source": [
    "skipped_feat = ['community_outdoor_space','recreation_facilities','rv_or_boat_parking','trails','shopping','waterfront','beach',\n",
    "'spa_or_hot_tub','horse_facilities','pond','swimming_pool','wooded_land','community_swimming_pool','tennis_court',\n",
    "'tennis','community_park','clubhouse','park','library','community_center','community_golf','community_tennis_court',\n",
    "'community_clubhouse','playground','lake','golf_course','volleyball','rv_parking','river_access','basketball_court',\n",
    "'basketball','community_gym','marina','greenbelt','community_spa_or_hot_tub','community_horse_facilities','soccer',                          \n",
    "'community_boat_facilities','indoor_basketball_court','baseball','horse_stables','horse_property','equestrian',\n",
    "'boat_dock','horse_stables','horse_property','equestrian','rv_parking','rv_or_boat_parking','boat_dock',\n",
    "'community_elevator','elevator','outbuilding','detached_guest_house','guest_house','hill_or_mountain_view','ocean_view',\n",
    "'city_view','lake_view','river_view','water_view','view','mountain_view','views','golf_course_view','fruit_trees','greenhouse',\n",
    "'ranch','farm','senior_community','groundscare','maintenance','gated_community','community_security_features','medicalcare',\n",
    "'disability_features','handicap_access',\n",
    "]"
   ]
  },
  {
   "cell_type": "code",
   "execution_count": 77,
   "metadata": {},
   "outputs": [],
   "source": [
    "data = data.drop(skipped_feat,axis=1)"
   ]
  },
  {
   "cell_type": "markdown",
   "metadata": {},
   "source": [
    "Given the output below, it looks like 'subtype' and 'type' are reversed, so we have decided to group properties first based on 'subtype' and then by type. This will eliminate the tiny categories. "
   ]
  },
  {
   "cell_type": "code",
   "execution_count": 78,
   "metadata": {},
   "outputs": [
    {
     "data": {
      "text/plain": [
       "descrip_type                 descrip_sub_type\n",
       "condos                       condo               842\n",
       "townhomes                    townhouse           555\n",
       "apartment                    condo                20\n",
       "condo_townhome_rowhome_coop  townhouse             5\n",
       "duplex_triplex               townhouse             5\n",
       "Name: count, dtype: int64"
      ]
     },
     "metadata": {},
     "output_type": "display_data"
    },
    {
     "data": {
      "text/plain": [
       "descrip_type\n",
       "single_family                  5457\n",
       "condos                          842\n",
       "townhomes                       555\n",
       "multi_family                    543\n",
       "land                            416\n",
       "mobile                          198\n",
       "condo                            69\n",
       "apartment                        20\n",
       "other                            15\n",
       "duplex_triplex                    5\n",
       "condo_townhome_rowhome_coop       5\n",
       "Name: count, dtype: int64"
      ]
     },
     "metadata": {},
     "output_type": "display_data"
    }
   ],
   "source": [
    "display(data[['descrip_type','descrip_sub_type']].value_counts())\n",
    "display(data['descrip_type'].value_counts())"
   ]
  },
  {
   "cell_type": "markdown",
   "metadata": {},
   "source": [
    "We are also going to combine 'condos' into the rest of the 'condo' category because that seems like an error. "
   ]
  },
  {
   "cell_type": "code",
   "execution_count": 79,
   "metadata": {},
   "outputs": [],
   "source": [
    "data['property_type'] = ''"
   ]
  },
  {
   "cell_type": "code",
   "execution_count": 80,
   "metadata": {},
   "outputs": [],
   "source": [
    "# assigning values to the new column based on the relevant type column\n",
    "# -> based on type:\n",
    "data.loc[data['descrip_type']=='single_family','property_type'] = 'single_family'\n",
    "data.loc[data['descrip_type']=='multi_family','property_type'] = 'multi_family'\n",
    "data.loc[data['descrip_type']=='land','property_type'] = 'land'\n",
    "data.loc[data['descrip_type']=='mobile','property_type'] = 'mobile'\n",
    "data.loc[data['descrip_type']=='condo','property_type'] = 'condo'\n",
    "data.loc[data['descrip_type']=='other','property_type'] = 'other'\n",
    "\n",
    "# -> based on subtype:\n",
    "data.loc[data['descrip_sub_type']=='condo','property_type'] = 'condo'\n",
    "data.loc[data['descrip_sub_type']=='townhouse','property_type'] = 'townhouse'\n",
    "\n",
    "# the leftovers:\n",
    "data.loc[data['property_type']=='','property_type'] = 'unknown'\n",
    "\n",
    "# drop old columns\n",
    "data = data.drop(['descrip_type','descrip_sub_type'],axis=1)"
   ]
  },
  {
   "cell_type": "markdown",
   "metadata": {},
   "source": [
    "Where the descrip_stories column is empty we can fill some of them in with the single_story or two_or_more_stories tags. "
   ]
  },
  {
   "cell_type": "code",
   "execution_count": 81,
   "metadata": {},
   "outputs": [
    {
     "name": "stdout",
     "output_type": "stream",
     "text": [
      "single story tag, no descrip: 118\n",
      "2+ tag, no descrip: 154\n",
      "none of them: 1627\n"
     ]
    },
    {
     "data": {
      "text/plain": [
       "descrip_stories\n",
       "1.0     3306\n",
       "2.0     2474\n",
       "3.0      432\n",
       "4.0       25\n",
       "6.0       16\n",
       "10.0       6\n",
       "8.0        1\n",
       "Name: count, dtype: int64"
      ]
     },
     "metadata": {},
     "output_type": "display_data"
    }
   ],
   "source": [
    "print('single story tag, no descrip:',len(data[(data['descrip_stories'].isna())&(data['two_or_more_stories'].isna())&(data['single_story']>0)]))\n",
    "print('2+ tag, no descrip:',len(data[(data['descrip_stories'].isna())&(data['two_or_more_stories']>0)&(data['single_story'].isna())]))\n",
    "print('none of them:',len(data[(data['descrip_stories'].isna())&(data['two_or_more_stories'].isna())&(data['single_story'].isna())]))\n",
    "display(data['descrip_stories'].value_counts())"
   ]
  },
  {
   "cell_type": "markdown",
   "metadata": {},
   "source": [
    "While not perfect, most multistory homes are two stories (84%), so it's reasonably likely that would be the number. <p>\n",
    "Missing values for descrip stories will be filled with:<br>\n",
    "1 for available single story tag<br>\n",
    "2 for available two or more tag<br>\n",
    "0 for missing all of them"
   ]
  },
  {
   "cell_type": "code",
   "execution_count": 82,
   "metadata": {},
   "outputs": [],
   "source": [
    "# fill empty values with 0\n",
    "data.loc[:,'descrip_stories'] = data['descrip_stories'].fillna(0)\n",
    "\n",
    "# fill 1 for single story using list of indexes\n",
    "data.loc[((data[(data['descrip_stories']==0)&   # where descrip is empty and\n",
    "                (data['single_story']>0)        # single story is valid\n",
    "                ].index).tolist()),'descrip_stories'] = 1\n",
    "\n",
    "# # fill 2 for multistory using list of indexes\n",
    "data.loc[((data[(data['descrip_stories']==0)&   # where descrip is empty and\n",
    "                (data['two_or_more_stories']>0) # multistory is valid\n",
    "                ].index).tolist()),'descrip_stories'] = 2\n",
    "\n",
    "# drop redundant columns\n",
    "data = data.drop(['single_story','two_or_more_stories'],axis=1)"
   ]
  },
  {
   "cell_type": "markdown",
   "metadata": {},
   "source": [
    "### Dealing with Tags"
   ]
  },
  {
   "cell_type": "markdown",
   "metadata": {},
   "source": [
    "Consider the fact that with tags, there are a lot of categorical variables.\n",
    "- How many columns would we have if we OHE tags, city and state?\n",
    "- Perhaps we can get rid of tags that have a low frequency."
   ]
  },
  {
   "cell_type": "markdown",
   "metadata": {},
   "source": [
    "_(could not use .loc to only fillna the expanded tags columns, so those are going to have to be applied case by case.)_"
   ]
  },
  {
   "cell_type": "markdown",
   "metadata": {},
   "source": [
    "Garage tags are cumulative; anything with a garage_3_or_more tag will also have a garage_1_or_more and garage_2_or_more. These seem to be refering to the total car capacity, as the descrip_garage column can be more than 3, but if the garage_3_or_more tag is present it will be at **least** 3. Some properties with garage_n_or_more tags have blank descrip_garage values, so that should be filled in and used as the only garage column."
   ]
  },
  {
   "cell_type": "code",
   "execution_count": 83,
   "metadata": {},
   "outputs": [
    {
     "data": {
      "text/html": [
       "<div>\n",
       "<style scoped>\n",
       "    .dataframe tbody tr th:only-of-type {\n",
       "        vertical-align: middle;\n",
       "    }\n",
       "\n",
       "    .dataframe tbody tr th {\n",
       "        vertical-align: top;\n",
       "    }\n",
       "\n",
       "    .dataframe thead th {\n",
       "        text-align: right;\n",
       "    }\n",
       "</style>\n",
       "<table border=\"1\" class=\"dataframe\">\n",
       "  <thead>\n",
       "    <tr style=\"text-align: right;\">\n",
       "      <th></th>\n",
       "      <th>garage_1_or_more</th>\n",
       "      <th>garage_2_or_more</th>\n",
       "      <th>garage_3_or_more</th>\n",
       "      <th>descrip_garage</th>\n",
       "    </tr>\n",
       "  </thead>\n",
       "  <tbody>\n",
       "    <tr>\n",
       "      <th>0</th>\n",
       "      <td>1.0</td>\n",
       "      <td>NaN</td>\n",
       "      <td>NaN</td>\n",
       "      <td>1.0</td>\n",
       "    </tr>\n",
       "    <tr>\n",
       "      <th>6</th>\n",
       "      <td>1.0</td>\n",
       "      <td>1.0</td>\n",
       "      <td>NaN</td>\n",
       "      <td>2.0</td>\n",
       "    </tr>\n",
       "    <tr>\n",
       "      <th>244</th>\n",
       "      <td>1.0</td>\n",
       "      <td>1.0</td>\n",
       "      <td>1.0</td>\n",
       "      <td>3.0</td>\n",
       "    </tr>\n",
       "    <tr>\n",
       "      <th>2136</th>\n",
       "      <td>1.0</td>\n",
       "      <td>1.0</td>\n",
       "      <td>1.0</td>\n",
       "      <td>6.0</td>\n",
       "    </tr>\n",
       "  </tbody>\n",
       "</table>\n",
       "</div>"
      ],
      "text/plain": [
       "      garage_1_or_more  garage_2_or_more  garage_3_or_more  descrip_garage\n",
       "0                  1.0               NaN               NaN             1.0\n",
       "6                  1.0               1.0               NaN             2.0\n",
       "244                1.0               1.0               1.0             3.0\n",
       "2136               1.0               1.0               1.0             6.0"
      ]
     },
     "metadata": {},
     "output_type": "display_data"
    },
    {
     "name": "stdout",
     "output_type": "stream",
     "text": [
      "only descrip filled in: 38\n",
      "missing descrip: 339\n",
      "inside the rows missing descrip:\n"
     ]
    },
    {
     "data": {
      "text/plain": [
       "garage_1_or_more    339.0\n",
       "garage_2_or_more      0.0\n",
       "garage_3_or_more      0.0\n",
       "dtype: float64"
      ]
     },
     "metadata": {},
     "output_type": "display_data"
    }
   ],
   "source": [
    "display(data.loc[[0,6,244,2136],['garage_1_or_more','garage_2_or_more','garage_3_or_more','descrip_garage']])\n",
    "\n",
    "print('only descrip filled in:',len(data[(data['garage_1_or_more'].isna())&(data['garage_2_or_more'].isna())&\n",
    "                                         (data['garage_3_or_more'].isna())&(data['descrip_garage']>0)]))\n",
    "print('missing descrip:',len(data[(data['descrip_garage'].isna())&((data['garage_1_or_more']>0)|(data['garage_2_or_more']>0)|(data['garage_3_or_more']>0))]))\n",
    "\n",
    "print('inside the rows missing descrip:')\n",
    "display(data[((data['garage_1_or_more']>0)|(data['garage_2_or_more']>0)|(data['garage_3_or_more']>0))&(data['descrip_garage'].isna())][['garage_1_or_more','garage_2_or_more','garage_3_or_more']].sum())"
   ]
  },
  {
   "cell_type": "markdown",
   "metadata": {},
   "source": [
    "Since all the rows with an empty descrip_garage value only have garage_1 tags, fill descip_garage with 1 for those rows. "
   ]
  },
  {
   "cell_type": "code",
   "execution_count": 84,
   "metadata": {},
   "outputs": [],
   "source": [
    "# fillna(0) the relevant columns\n",
    "data.loc[:,'garage_1_or_more'] = data['garage_1_or_more'].fillna(0)\n",
    "data.loc[:,'descrip_garage'] = data['descrip_garage'].fillna(0)\n",
    "\n",
    "# using list of indexes to select rows to fill\n",
    "data.loc[((data[(data['descrip_garage']==0.0)&  # nothing in descrip column and\n",
    "                (data['garage_1_or_more']>0     # valid value in garage_1 column\n",
    "                 )].index).tolist()),'descrip_garage'] = 1\n",
    "\n",
    "# drop the now redundant columns, rename the updated one\n",
    "data = data.drop(['garage_1_or_more','garage_2_or_more','garage_3_or_more'],axis=1)\n",
    "data = data.rename(columns={'descrip_garage': 'garage_car_spaces'})"
   ]
  },
  {
   "cell_type": "markdown",
   "metadata": {},
   "source": [
    "According to Google, forced air and central heat are both types of heating, just with slightly different mechanisms, so those can be combined into one column 'heating' and then dropped."
   ]
  },
  {
   "cell_type": "code",
   "execution_count": 85,
   "metadata": {},
   "outputs": [
    {
     "name": "stdout",
     "output_type": "stream",
     "text": [
      "properties with either forced air or central heat:\n",
      "4594\n"
     ]
    }
   ],
   "source": [
    "print('properties with either forced air or central heat:')\n",
    "print(len(data[(data['forced_air']>0) | (data['central_heat']>0)]))"
   ]
  },
  {
   "cell_type": "code",
   "execution_count": 86,
   "metadata": {},
   "outputs": [],
   "source": [
    "# fillna(0) the relevant columns\n",
    "data.loc[:,'central_heat'] = data['central_heat'].fillna(0)\n",
    "data.loc[:,'forced_air'] = data['forced_air'].fillna(0)\n",
    "\n",
    "# create heating column, default value 0\n",
    "data['heating'] = 0.0\n",
    "\n",
    "# assign the rows with those tags a 1 using list index\n",
    "data.loc[((data[(data['central_heat']>0)|   # valid value for central heat or\n",
    "                (data['forced_air']>0)      # valid value for forced air\n",
    "                ].index).tolist()),'heating'] = 1.0\n",
    "\n",
    "#drop old columns\n",
    "data = data.drop(['central_heat','forced_air'],axis=1)"
   ]
  },
  {
   "cell_type": "markdown",
   "metadata": {},
   "source": [
    "solar_panels is completely redundant with solar_system and never occurs on its own; renaming solar_system 'solar_power' and dropping solar_panel. "
   ]
  },
  {
   "cell_type": "code",
   "execution_count": 87,
   "metadata": {},
   "outputs": [
    {
     "name": "stdout",
     "output_type": "stream",
     "text": [
      "solar system or panels: 151\n",
      "both: 84\n",
      "only panels: 0\n"
     ]
    }
   ],
   "source": [
    "print('solar system or panels:',len(data[(data['solar_system']>0) | (data['solar_panels']>0)]))\n",
    "print('both:',len(data[(data['solar_system']>0) & (data['solar_panels']>0)]))\n",
    "print('only panels:',len(data[(data['solar_system']==0) & (data['solar_panels']>0)]))"
   ]
  },
  {
   "cell_type": "code",
   "execution_count": 88,
   "metadata": {},
   "outputs": [],
   "source": [
    "# fillna(0) the relevant column\n",
    "data.loc[:,'solar_system'] = data['solar_system'].fillna(0)\n",
    "\n",
    "data = data.rename(columns={'solar_system': 'solar_power'})\n",
    "data = data.drop('solar_panels',axis=1)"
   ]
  },
  {
   "cell_type": "markdown",
   "metadata": {},
   "source": [
    "There are four tags for porches, which are going to be combined into one 'porch' column."
   ]
  },
  {
   "cell_type": "code",
   "execution_count": 89,
   "metadata": {},
   "outputs": [],
   "source": [
    "# create porch column, default value 0\n",
    "data['porch'] = 0.0\n",
    "\n",
    "# assign the rows with those tags a 1 using list of indexes\n",
    "data.loc[((data[(~data['front_porch'].isna())|      # where front porch isn't null or\n",
    "                (~data['large_porch'].isna())|      # where large porch isn't null or\n",
    "                (~data['screen_porch'].isna())|     # where screen porch isn't null or\n",
    "                (~data['wrap_around_porch'].isna()) # where wrap around porch isn't null\n",
    "                ].index).tolist()),'porch'] = 1.0\n",
    "\n",
    "# drop old columns\n",
    "data = data.drop(['front_porch','large_porch','screen_porch','wrap_around_porch'],axis=1)"
   ]
  },
  {
   "cell_type": "markdown",
   "metadata": {},
   "source": [
    "While some properties, like apartments, might not have a dedicated laundry room, laundry rooms generally have washers and dryers. So these will be combined into 'laundry_facilities'."
   ]
  },
  {
   "cell_type": "code",
   "execution_count": 90,
   "metadata": {},
   "outputs": [
    {
     "data": {
      "text/plain": [
       "washer_dryer    2252.0\n",
       "laundry_room    2248.0\n",
       "dtype: float64"
      ]
     },
     "execution_count": 90,
     "metadata": {},
     "output_type": "execute_result"
    }
   ],
   "source": [
    "data[(data['washer_dryer']==1.0)|(data['laundry_room']==1.0)][['washer_dryer','laundry_room']].sum()"
   ]
  },
  {
   "cell_type": "code",
   "execution_count": 91,
   "metadata": {},
   "outputs": [],
   "source": [
    "# create Laundry_facilities column, default value 0\n",
    "data['laundry_facilities'] = 0.0\n",
    "\n",
    "# assign the rows with those tags a 1 using list of indexes\n",
    "data.loc[((data[(~data['washer_dryer'].isna())| # where washer/dryer isn't null or\n",
    "                (~data['laundry_room'].isna())  # where laundry room isn't null\n",
    "                ].index).tolist()),'laundry_facilities'] = 1.0\n",
    "\n",
    "# drop old columns \n",
    "data = data.drop(['washer_dryer','laundry_room'],axis=1)"
   ]
  },
  {
   "cell_type": "markdown",
   "metadata": {},
   "source": [
    "Kitchen and ceiling features:<p>\n",
    "We are going to handle this in two ways:  the creation of 'notable_kitchen' for any tag pretaining to kitchen, and 'notable_ceiling' for the ceiling ones, and then a 'recently_updated' column with a max value of 2 based on the presence of 'updated_kitchen' and 'new_roof'. Without interior design knowledge there is no way to meaninfully rank the various types of kitchen or ceiling, but their inclusion presumably means they are desirable. <p>\n",
    "_Note: ceilings are interior and roofs are exterior, so the 'new_roof' column is not part of the notable_ceiling aggregate._"
   ]
  },
  {
   "cell_type": "code",
   "execution_count": 92,
   "metadata": {},
   "outputs": [],
   "source": [
    "# create new columns, default values all 0\n",
    "data[['notable_kitchen','notable_ceiling','recently_updated']] = 0.0\n",
    "\n",
    "# assign each column 1s in the appropriate rows using list of indexes\n",
    "# -> kitchens \n",
    "data.loc[((data[(~data['updated_kitchen'].isna())|  # where updated kitchen isn't null or\n",
    "                (~data['modern_kitchen'].isna())|   # where modern kitchen isn't null or\n",
    "                (~data['large_kitchen'].isna())|    # where large kitchen isn't null or\n",
    "                (~data['granite_kitchen'].isna())|  # where granite kitchen isn't null or\n",
    "                (~data['open_kitchen'].isna())|     # where open kitchen isn't null or\n",
    "                (~data['gourmet_kitchen'].isna())|  # where gourmet kitchen isn't null or\n",
    "                (~data['kitchen_island'].isna())|   # where kitchen island isn't null or\n",
    "                (~data['outdoor_kitchen'].isna())|  # where outdoor kitchen isn't null or\n",
    "                (~data['white_kitchen'].isna())|    # where white kitchen isn't null or\n",
    "                (~data['two_kitchen'].isna())       # where two kitchen isn't null\n",
    "                ].index).tolist()),'notable_kitchen'] = 1.0\n",
    "\n",
    "# -> ceilings\n",
    "data.loc[((data[(~data['high_ceiling'].isna())|         # where high ceiling isn't null or\n",
    "                (~data['coffer_ceiling'].isna())|       # where coffer ceiling isn't null or\n",
    "                (~data['cathedral_ceiling'].isna())|    # where cathedral ceiling isn't null or\n",
    "                (~data['vaulted_ceiling'].isna())       # where vaulted ceiling isn't null \n",
    "                ].index).tolist()),'notable_ceiling'] = 1.0\n",
    "\n",
    "# -> recent updates\n",
    "# (has both)\n",
    "data.loc[((data[(~data['new_roof'].isna())&         # where new roof isn't null and\n",
    "                (~data['updated_kitchen'].isna())   # where updated kitchen isn't null \n",
    "                ].index).tolist()),'recently_updated'] = 1.0\n",
    "# only kitchen\n",
    "data.loc[((data[(data['new_roof'].isna())&          # where new roof is null and\n",
    "                (~data['updated_kitchen'].isna())   # where updated kitchen isn't null  \n",
    "                ].index).tolist()),'recently_updated'] = 1.0\n",
    "# only roof \n",
    "data.loc[((data[(~data['new_roof'].isna())&         # where new roof isn't null and\n",
    "                (data['updated_kitchen'].isna())    # where updated kitchen isn null \n",
    "                ].index).tolist()),'recently_updated'] = 1.0\n",
    "\n",
    "# drop old columns\n",
    "data = data.drop(['updated_kitchen','modern_kitchen','large_kitchen','open_kitchen','granite_kitchen','gourmet_kitchen',\n",
    "            'kitchen_island','outdoor_kitchen','white_kitchen','two_kitchen','high_ceiling','coffer_ceiling',\n",
    "            'cathedral_ceiling','vaulted_ceiling','new_roof'],axis=1)"
   ]
  },
  {
   "cell_type": "markdown",
   "metadata": {},
   "source": [
    "We have decided that we are going to consider 'media_room', 'theater_room' and 'game_room' the same for our purposes, as they logically are essentially the same and there are very few of them in the overall dataset. "
   ]
  },
  {
   "cell_type": "code",
   "execution_count": 93,
   "metadata": {},
   "outputs": [],
   "source": [
    "# create new column, default values 0\n",
    "data['multimedia_room'] = 0.0\n",
    "\n",
    "# assign the rows with those tags a 1 using list of indexes\n",
    "data.loc[((data[(~data['media_room'].isna())|   # where media room isn't null or\n",
    "                (~data['theater_room'].isna())| # where theater room isn't null or\n",
    "                (~data['game_room'].isna())     # where game room isn't null \n",
    "                ].index).tolist()),'multimedia_room'] = 1.0\n",
    "\n",
    "# drop old columns\n",
    "data = data.drop(['media_room','theater_room','game_room'],axis=1)"
   ]
  },
  {
   "cell_type": "markdown",
   "metadata": {},
   "source": [
    "Going to collapse fenced_yard, private_backyard and fenced_courtyard into 'enclosed_yard'; given that the courtyard tag only occurs on single family homes, it cannot be talking about the kind of central courtyard that happens on some apartment complexes, and belongs with the others. "
   ]
  },
  {
   "cell_type": "code",
   "execution_count": 94,
   "metadata": {},
   "outputs": [
    {
     "data": {
      "text/plain": [
       "fenced_courtyard  property_type\n",
       "1.0               single_family    10\n",
       "Name: count, dtype: int64"
      ]
     },
     "execution_count": 94,
     "metadata": {},
     "output_type": "execute_result"
    }
   ],
   "source": [
    "data[data['fenced_courtyard']>0][['fenced_courtyard','property_type']].value_counts()"
   ]
  },
  {
   "cell_type": "code",
   "execution_count": 95,
   "metadata": {},
   "outputs": [],
   "source": [
    "# create new column with default value of 0\n",
    "data['enclosed_yard'] = 0.0\n",
    "\n",
    "# assign the rows with those tags a 1 using list of indexes\n",
    "data.loc[((data[(data['fenced_yard']>0)|   # where fenced yard isn't null or\n",
    "                (data['private_backyard']>0)| # where private backyard isn't null or\n",
    "                (data['fenced_courtyard']>0)     # where fenced courtyard isn't null \n",
    "                ].index).tolist()),'enclosed_yard'] = 1.0\n",
    "\n",
    "# drop the old columns\n",
    "data = data.drop(['fenced_yard','private_backyard','fenced_courtyard'],axis=1)"
   ]
  },
  {
   "cell_type": "markdown",
   "metadata": {},
   "source": [
    "carport and private_parking are largely redundant with garage information, but not completely. However, there is no way to know how many cars each fits. \n",
    "\n",
    "data[data['carport']==1.0][['carport','garage_car_spaces']].value_counts()\n",
    "\n",
    "data[data['private_parking']==1.0][['private_parking','descrip_garage']]"
   ]
  },
  {
   "cell_type": "markdown",
   "metadata": {},
   "source": [
    "[['master_bedroom','master_suite','two_master_suites','master_bathroom','first_floor_master_bedroom','dual_master_bedroom']]"
   ]
  },
  {
   "cell_type": "markdown",
   "metadata": {},
   "source": [
    "There "
   ]
  },
  {
   "cell_type": "code",
   "execution_count": 123,
   "metadata": {},
   "outputs": [
    {
     "data": {
      "text/plain": [
       "Series([], Name: count, dtype: int64)"
      ]
     },
     "execution_count": 123,
     "metadata": {},
     "output_type": "execute_result"
    }
   ],
   "source": [
    "data[data['descrip_beds'].isna()][['master_bedroom','master_suite','two_master_suites','master_bathroom','first_floor_master_bedroom','dual_master_bedroom']].value_counts()"
   ]
  },
  {
   "cell_type": "code",
   "execution_count": 111,
   "metadata": {},
   "outputs": [
    {
     "data": {
      "text/plain": [
       "Index(['carport', 'cul_de_sac', 'family_room', 'hardwood_floors',\n",
       "       'hill_or_mountain_view', 'basement', 'big_yard', 'efficient',\n",
       "       'ocean_view', 'rental_property', 'furniture', 'city_view',\n",
       "       'community_security_features', 'corner_lot', 'lake_view', 'river_view',\n",
       "       'ensuite', 'private_courtyard', 'central_air', 'dishwasher',\n",
       "       'energy_efficient', 'fireplace', 'fixer_upper', 'master_bedroom',\n",
       "       'big_lot', 'master_suite', 'medicalcare', 'disability_features',\n",
       "       'golf_course_lot_or_frontage', 'water_view', 'maintenance',\n",
       "       'groundscare', 'jack_and_jill_bathroom', 'two_master_suites',\n",
       "       'big_bathroom', 'investment_opportunity', 'view', 'den_or_office',\n",
       "       'beautiful_backyard', 'smart_homes', 'guest_parking', 'storm_shelter',\n",
       "       'exposed_brick', 'master_bathroom', 'solar_power', 'gated_community',\n",
       "       'views', 'security', 'private_bathroom', 'fruit_trees', 'mountain_view',\n",
       "       'farm', 'ranch', 'pets_allowed', 'senior_community', 'courtyard_entry',\n",
       "       'dining_room', 'golf_course_view', 'handicap_access', 'open_house',\n",
       "       'first_floor_master_bedroom', 'well_water', 'wine_cellar',\n",
       "       'private_parking', 'greenhouse', 'dual_master_bedroom', 'status',\n",
       "       'list_date', 'open_houses', 'descrip_year_built', 'descrip_baths_3qtr',\n",
       "       'descrip_sold_date', 'descrip_sold_price', 'descrip_baths_full',\n",
       "       'descrip_baths_half', 'descrip_lot_sqft', 'descrip_sqft',\n",
       "       'descrip_baths', 'garage_car_spaces', 'descrip_stories', 'descrip_beds',\n",
       "       'lead_attributes', 'property_id', 'flags_is_foreclosure', 'products',\n",
       "       'listing_id', 'location_state', 'location_city', 'property_type',\n",
       "       'heating', 'porch', 'laundry_facilities', 'notable_kitchen',\n",
       "       'notable_ceiling', 'recently_updated', 'multimedia_room',\n",
       "       'enclosed_yard'],\n",
       "      dtype='object')"
      ]
     },
     "execution_count": 111,
     "metadata": {},
     "output_type": "execute_result"
    }
   ],
   "source": [
    "data.keys()"
   ]
  },
  {
   "cell_type": "markdown",
   "metadata": {},
   "source": [
    "### Dealing with Cities"
   ]
  },
  {
   "cell_type": "code",
   "execution_count": null,
   "metadata": {},
   "outputs": [],
   "source": []
  },
  {
   "cell_type": "markdown",
   "metadata": {},
   "source": [
    "- Sales will vary drastically between cities and states.  Is there a way to keep information about which city it is without OHE?\n",
    "- Could we label encode or ordinal encode?  Yes, but this may have undesirable effects, giving nominal data ordinal values.\n",
    "- What we can do is use our training data to encode the mean sale price by city as a feature (a.k.a. Target Encoding)\n",
    "    - We can do this as long as we ONLY use the training data - we're using the available data to give us a 'starting guess' of the price for each city, without needing to encode city explicitly\n",
    "- If you replace cities or states with numerical values (like the mean price), make sure that the data is split so that we don't leak data into the training selection. This is a great time to train test split. Compute on the training data, and join these values to the test data\n",
    "- Note that you *may* have cities in the test set that are not in the training set. You don't want these to be NA, so maybe you can fill them with the overall mean"
   ]
  },
  {
   "cell_type": "code",
   "execution_count": 97,
   "metadata": {},
   "outputs": [],
   "source": [
    "# perform train test split here\n",
    "# do something with state and city"
   ]
  },
  {
   "cell_type": "markdown",
   "metadata": {},
   "source": [
    "## Extra Data - STRETCH\n",
    "\n",
    "> This doesn't need to be part of your Minimum Viable Product (MVP). We recommend you write a functional, basic pipeline first, then circle back and join new data if you have time\n",
    "\n",
    "> If you do this, try to write your downstream steps in a way it will still work on a dataframe with different features!\n",
    "\n",
    "- You're not limited to just using the data provided to you. Think/ do some research about other features that might be useful to predict housing prices. \n",
    "- Can you import and join this data? Make sure you do any necessary preprocessing and make sure it is joined correctly.\n",
    "- Example suggestion: could mortgage interest rates in the year of the listing affect the price? "
   ]
  },
  {
   "cell_type": "code",
   "execution_count": 98,
   "metadata": {},
   "outputs": [],
   "source": [
    "# import, join and preprocess new data here"
   ]
  },
  {
   "cell_type": "markdown",
   "metadata": {},
   "source": [
    "## EDA/ Visualization\n",
    "\n",
    "Remember all of the EDA that you've been learning about?  Now is a perfect time for it!\n",
    "- Look at distributions of numerical variables to see the shape of the data and detect outliers.    \n",
    "    - Consider transforming very skewed variables\n",
    "- Scatterplots of a numerical variable and the target go a long way to show correlations.\n",
    "- A heatmap will help detect highly correlated features, and we don't want these.\n",
    "    - You may have too many features to do this, in which case you can simply compute the most correlated feature-pairs and list them\n",
    "- Is there any overlap in any of the features? (redundant information, like number of this or that room...)"
   ]
  },
  {
   "cell_type": "code",
   "execution_count": 99,
   "metadata": {},
   "outputs": [],
   "source": [
    "# perform EDA here"
   ]
  },
  {
   "cell_type": "markdown",
   "metadata": {},
   "source": [
    "## Scaling and Finishing Up"
   ]
  },
  {
   "cell_type": "markdown",
   "metadata": {},
   "source": [
    "Now is a great time to scale the data and save it once it's preprocessed.\n",
    "- You can save it in your data folder, but you may want to make a new `processed/` subfolder to keep it organized"
   ]
  },
  {
   "cell_type": "code",
   "execution_count": null,
   "metadata": {},
   "outputs": [],
   "source": []
  }
 ],
 "metadata": {
  "kernelspec": {
   "display_name": "base",
   "language": "python",
   "name": "python3"
  },
  "language_info": {
   "codemirror_mode": {
    "name": "ipython",
    "version": 3
   },
   "file_extension": ".py",
   "mimetype": "text/x-python",
   "name": "python",
   "nbconvert_exporter": "python",
   "pygments_lexer": "ipython3",
   "version": "3.12.3"
  }
 },
 "nbformat": 4,
 "nbformat_minor": 2
}
