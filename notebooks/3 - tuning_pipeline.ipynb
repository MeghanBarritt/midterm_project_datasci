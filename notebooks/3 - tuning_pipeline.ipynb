{
 "cells": [
  {
   "cell_type": "markdown",
   "metadata": {},
   "source": [
    "## Hyperparam Tuning\n",
    "\n",
    "Now that we know which models are performing better, it's time to perform cross validation and tune hyperparameters.\n",
    "- Do a google search for hyperparameter ranges for each type of model.\n",
    "\n",
    "GridSearch/RandomSearch are a great methods for checking off both of these tasks.\n",
    "\n",
    "There is a fairly significant issue with this approach for this particular problem (described below). But in the interest of creating a basic functional pipeline, you can just use the default Sklearn methods for now.\n",
    "\n",
    "## Preventing Data Leakage in Tuning - STRETCH\n",
    "\n",
    "> **This step doesn't need to be part of your Minimum Viable Product (MVP), but its highly recommended you complete it, if you have time!**\n",
    "\n",
    "BUT we have a problem - if we calculated a numerical value to encode city (such as the mean of sale prices in that city) on the training data, we can't cross validate \n",
    "- The rows in each validation fold were part of the original calculation of the mean for that city - that means we're leaking information!\n",
    "- While sklearn's built in functions are extremely useful, sometimes it is necessary to do things ourselves\n",
    "\n",
    "You need to create two functions to replicate what Gridsearch does under the hood. This is a challenging, real world data problem! To help you out, we've created some psuedocode and docstrings to get you started. \n",
    "\n",
    "**`custom_cross_validation()`**\n",
    "- Should take the training data, and divide it into multiple train/validation splits. \n",
    "- Look into `sklearn.model_selection.KFold` to accomplish this - the [documentation](https://scikit-learn.org/stable/modules/generated/sklearn.model_selection.KFold.html) shows how to split a dataframe and loop through the indexes of your split data. \n",
    "- Within your function, you should compute the city means on the training folds just like you did in Notebook 1 - you may have to re-join the city column to do this - and then join these values to the validation fold\n",
    "\n",
    "This psuedocode may help you fill in the function:\n",
    "\n",
    "```python\n",
    "kfold = KFold() # fit sklearn k folds on X_train\n",
    "train_folds = []\n",
    "val_folds = []\n",
    "for training_index, val_index in kfold.split(X_train):\n",
    "    train_fold, val_fold = #.iloc loop variables on X_train\n",
    "\n",
    "    # recompute training city means like you did in notebook 1 \n",
    "    # merge to validation fold\n",
    "        \n",
    "    train_folds.append(train_fold)\n",
    "    val_folds.append(val_fold)\n",
    "\n",
    "    return train_folds, val_folds\n",
    "```\n",
    "\n",
    "\n",
    "**`hyperparameter_search()`**\n",
    "- Should take the validation and training splits from your previous function, along with your dictionary of hyperparameter values\n",
    "- For each set of hyperparameter values, fit your chosen model on each set of training folds, and take the average of your chosen scoring metric. [itertools.product()](https://docs.python.org/3/library/itertools.html) will be helpful for looping through all combinations of hyperparameter values\n",
    "- Your function should output the hyperparameter values corresponding the highest average score across all folds. Alternatively, it could also output a model object fit on the full training dataset with these parameters.\n",
    "\n",
    "\n",
    "This psuedocode may help you fill in the function:\n",
    "\n",
    "```python\n",
    "hyperparams = # Generate hyperparam options with itertools\n",
    "hyperparam-scores = []\n",
    "for hyperparam-combo in hyperparams:\n",
    "\n",
    "    scores = []\n",
    "\n",
    "    for folds in allmyfolds:\n",
    "        # score fold the fold with the model/ hyperparams\n",
    "        scores.append(score-fold)\n",
    "        \n",
    "    score = scores.mean()\n",
    "    hyperparam-scores.append(score)\n",
    "# After loop, find max of hyperparam-scores. Best params are at same index in `hyperparams` loop iteratble\n",
    "```\n",
    "\n",
    "Docstrings have been provided below to get you started. Once you're done developing your functions, you should move them to `functions_variables.py` to keep your notebook clean \n",
    "\n",
    "Bear in mind that these instructions are just one way to tackle this problem - the inputs and output formats don't need to be exactly as specified here."
   ]
  },
  {
   "cell_type": "code",
   "execution_count": 1,
   "metadata": {},
   "outputs": [],
   "source": [
    "# develop your custom functions here\n",
    "\n",
    "def custom_cross_validation(training_data, n_splits =5):\n",
    "    '''creates n_splits sets of training and validation folds\n",
    "\n",
    "    Args:\n",
    "      training_data: the dataframe of features and target to be divided into folds\n",
    "      n_splits: the number of sets of folds to be created\n",
    "\n",
    "    Returns:\n",
    "      A tuple of lists, where the first index is a list of the training folds, \n",
    "      and the second the corresponding validation fold\n",
    "\n",
    "    Example:\n",
    "        >>> output = custom_cross_validation(train_df, n_splits = 10)\n",
    "        >>> output[0][0] # The first training fold\n",
    "        >>> output[1][0] # The first validation fold\n",
    "        >>> output[0][1] # The second training fold\n",
    "        >>> output[1][1] # The second validation fold... etc.\n",
    "    '''\n",
    "\n",
    "    return training_folds, validation_folds\n",
    "\n",
    "def hyperparameter_search(training_folds, validation_folds, param_grid):\n",
    "    '''outputs the best combination of hyperparameter settings in the param grid, \n",
    "    given the training and validation folds\n",
    "\n",
    "    Args:\n",
    "      training_folds: the list of training fold dataframes\n",
    "      validation_folds: the list of validation fold dataframes\n",
    "      param_grid: the dictionary of possible hyperparameter values for the chosen model\n",
    "\n",
    "    Returns:\n",
    "      A list of the best hyperparameter settings based on the chosen metric\n",
    "\n",
    "    Example:\n",
    "        >>> param_grid = {\n",
    "          'max_depth': [None, 10, 20, 30],\n",
    "          'min_samples_split': [2, 5, 10],\n",
    "          'min_samples_leaf': [1, 2, 4],\n",
    "          'max_features': ['sqrt', 'log2']} # for random forest\n",
    "        >>> hyperparameter_search(output[0], output[1], param_grid = param_grid) \n",
    "        # assuming 'ouput' is the output of custom_cross_validation()\n",
    "        [20, 5, 2, 'log2'] # hyperparams in order\n",
    "    '''\n",
    "\n",
    "    return hyperparameters\n"
   ]
  },
  {
   "cell_type": "markdown",
   "metadata": {},
   "source": [
    "## Hyperparam Tuning"
   ]
  },
  {
   "cell_type": "code",
   "execution_count": 2,
   "metadata": {},
   "outputs": [],
   "source": [
    "from sklearn.metrics import mean_squared_error, r2_score\n",
    "from sklearn.linear_model import Ridge\n",
    "from sklearn.svm import SVR\n",
    "from sklearn.ensemble import RandomForestRegressor\n",
    "from xgboost import XGBRegressor\n",
    "from sklearn.model_selection import GridSearchCV"
   ]
  },
  {
   "cell_type": "code",
   "execution_count": 3,
   "metadata": {},
   "outputs": [],
   "source": [
    "# initiate models + parameter slots\n",
    "ridge = Ridge(random_state=42)\n",
    "svm = SVR()\n",
    "forest = RandomForestRegressor(random_state=42)\n",
    "boost = XGBRegressor(objective='reg:squarederror',random_state=42)"
   ]
  },
  {
   "cell_type": "code",
   "execution_count": 4,
   "metadata": {},
   "outputs": [],
   "source": [
    "import pickle\n",
    "import pandas as pd\n",
    "get_Xtrain = open(\"pickles/processed/X_train_scaled.txt\", \"rb\")\n",
    "get_Xtest = open(\"pickles/processed/X_test_scaled.txt\", \"rb\")\n",
    "get_ytrain = open(\"pickles/processed/y_train_cleaned.txt\", \"rb\")\n",
    "get_ytest = open(\"pickles/processed/y_test_cleaned.txt\", \"rb\")\n",
    "\n",
    "X_train = pickle.load(get_Xtrain)\n",
    "X_test = pickle.load(get_Xtest)\n",
    "y_train = pickle.load(get_ytrain)\n",
    "y_test = pickle.load(get_ytest)"
   ]
  },
  {
   "cell_type": "code",
   "execution_count": 5,
   "metadata": {},
   "outputs": [],
   "source": [
    "space_ridge = {\n",
    "    'alpha': [10,50,100,150,200]\n",
    "    }"
   ]
  },
  {
   "cell_type": "code",
   "execution_count": 6,
   "metadata": {},
   "outputs": [
    {
     "name": "stdout",
     "output_type": "stream",
     "text": [
      "Best Score: 0.6140723555661574\n",
      "Best Hyperparameters: {'alpha': 150}\n"
     ]
    }
   ],
   "source": [
    "search_ridge = GridSearchCV(ridge, space_ridge, scoring='r2')\n",
    "result_ridge = search_ridge.fit(X_train,y_train.values)\n",
    "print('Best Score: %s' % result_ridge.best_score_)\n",
    "print('Best Hyperparameters: %s' % result_ridge.best_params_)"
   ]
  },
  {
   "cell_type": "code",
   "execution_count": 7,
   "metadata": {},
   "outputs": [],
   "source": [
    "space_svm = {\n",
    "    'kernel': ['rbf','linear','polynomial'],\n",
    "    'C': [0,10,100,1000,10000],\n",
    "    'epsilon': [0.00001,0.0001,0.001,0.01]\n",
    "    }"
   ]
  },
  {
   "cell_type": "code",
   "execution_count": 8,
   "metadata": {},
   "outputs": [
    {
     "name": "stdout",
     "output_type": "stream",
     "text": [
      "Best Score: 0.5654166467537992\n",
      "Best Hyperparameters: {'C': 10000, 'epsilon': 0.0001, 'kernel': 'linear'}\n"
     ]
    },
    {
     "name": "stderr",
     "output_type": "stream",
     "text": [
      "c:\\Users\\mebar\\anaconda3\\Lib\\site-packages\\sklearn\\model_selection\\_validation.py:547: FitFailedWarning: \n",
      "140 fits failed out of a total of 300.\n",
      "The score on these train-test partitions for these parameters will be set to nan.\n",
      "If these failures are not expected, you can try to debug them by setting error_score='raise'.\n",
      "\n",
      "Below are more details about the failures:\n",
      "--------------------------------------------------------------------------------\n",
      "60 fits failed with the following error:\n",
      "Traceback (most recent call last):\n",
      "  File \"c:\\Users\\mebar\\anaconda3\\Lib\\site-packages\\sklearn\\model_selection\\_validation.py\", line 895, in _fit_and_score\n",
      "    estimator.fit(X_train, y_train, **fit_params)\n",
      "  File \"c:\\Users\\mebar\\anaconda3\\Lib\\site-packages\\sklearn\\base.py\", line 1467, in wrapper\n",
      "    estimator._validate_params()\n",
      "  File \"c:\\Users\\mebar\\anaconda3\\Lib\\site-packages\\sklearn\\base.py\", line 666, in _validate_params\n",
      "    validate_parameter_constraints(\n",
      "  File \"c:\\Users\\mebar\\anaconda3\\Lib\\site-packages\\sklearn\\utils\\_param_validation.py\", line 95, in validate_parameter_constraints\n",
      "    raise InvalidParameterError(\n",
      "sklearn.utils._param_validation.InvalidParameterError: The 'C' parameter of SVR must be a float in the range (0.0, inf). Got 0 instead.\n",
      "\n",
      "--------------------------------------------------------------------------------\n",
      "80 fits failed with the following error:\n",
      "Traceback (most recent call last):\n",
      "  File \"c:\\Users\\mebar\\anaconda3\\Lib\\site-packages\\sklearn\\model_selection\\_validation.py\", line 895, in _fit_and_score\n",
      "    estimator.fit(X_train, y_train, **fit_params)\n",
      "  File \"c:\\Users\\mebar\\anaconda3\\Lib\\site-packages\\sklearn\\base.py\", line 1467, in wrapper\n",
      "    estimator._validate_params()\n",
      "  File \"c:\\Users\\mebar\\anaconda3\\Lib\\site-packages\\sklearn\\base.py\", line 666, in _validate_params\n",
      "    validate_parameter_constraints(\n",
      "  File \"c:\\Users\\mebar\\anaconda3\\Lib\\site-packages\\sklearn\\utils\\_param_validation.py\", line 95, in validate_parameter_constraints\n",
      "    raise InvalidParameterError(\n",
      "sklearn.utils._param_validation.InvalidParameterError: The 'kernel' parameter of SVR must be a str among {'sigmoid', 'poly', 'rbf', 'linear', 'precomputed'} or a callable. Got 'polynomial' instead.\n",
      "\n",
      "  warnings.warn(some_fits_failed_message, FitFailedWarning)\n",
      "c:\\Users\\mebar\\anaconda3\\Lib\\site-packages\\sklearn\\model_selection\\_search.py:1051: UserWarning: One or more of the test scores are non-finite: [        nan         nan         nan         nan         nan         nan\n",
      "         nan         nan         nan         nan         nan         nan\n",
      " -0.0506002   0.0278583          nan -0.0506002   0.0278583          nan\n",
      " -0.0506002   0.0278583          nan -0.0506002   0.0278583          nan\n",
      " -0.04348761  0.32768491         nan -0.04348761  0.32768491         nan\n",
      " -0.04348761  0.32768491         nan -0.04348761  0.32768491         nan\n",
      "  0.01602716  0.51753947         nan  0.01602716  0.51753947         nan\n",
      "  0.01602716  0.51753947         nan  0.01602716  0.51753947         nan\n",
      "  0.23526253  0.56541665         nan  0.23526253  0.56541665         nan\n",
      "  0.23526253  0.56541665         nan  0.23526253  0.56541664         nan]\n",
      "  warnings.warn(\n"
     ]
    }
   ],
   "source": [
    "search_svm = GridSearchCV(svm, space_svm, scoring='r2')\n",
    "result_svm = search_svm.fit(X_train,y_train.values)\n",
    "print('Best Score: %s' % result_svm.best_score_)\n",
    "print('Best Hyperparameters: %s' % result_svm.best_params_)"
   ]
  },
  {
   "cell_type": "code",
   "execution_count": 20,
   "metadata": {},
   "outputs": [],
   "source": [
    "space_forest = {\n",
    "    'n_estimators': [350,400,450],\n",
    "    'max_depth': [18,20,22]\n",
    "    }"
   ]
  },
  {
   "cell_type": "code",
   "execution_count": 21,
   "metadata": {},
   "outputs": [
    {
     "name": "stdout",
     "output_type": "stream",
     "text": [
      "Best Score: 0.6524860785593051\n",
      "Best Hyperparameters: {'max_depth': 20, 'n_estimators': 400}\n"
     ]
    }
   ],
   "source": [
    "search_forest = GridSearchCV(forest, space_forest, scoring='r2')\n",
    "result_forest = search_forest.fit(X_train,y_train.values)\n",
    "print('Best Score: %s' % result_forest.best_score_)\n",
    "print('Best Hyperparameters: %s' % result_forest.best_params_)"
   ]
  },
  {
   "cell_type": "code",
   "execution_count": 22,
   "metadata": {},
   "outputs": [],
   "source": [
    "space_boost = {\n",
    "    'alpha': [1.5,2,2.5],\n",
    "    'lambda': [75,100,125],\n",
    "    'max_depth': [6,7,8],\n",
    "    'learning_rate': [0.5,0.4,0.3],\n",
    "    'n_estimators': [40,45,50]\n",
    "    }"
   ]
  },
  {
   "cell_type": "code",
   "execution_count": 23,
   "metadata": {},
   "outputs": [
    {
     "name": "stdout",
     "output_type": "stream",
     "text": [
      "Best Score: 0.6311209872956087\n",
      "Best Hyperparameters: {'alpha': 2, 'lambda': 100, 'learning_rate': 0.4, 'max_depth': 7, 'n_estimators': 45}\n"
     ]
    }
   ],
   "source": [
    "search_boost = GridSearchCV(boost, space_boost,scoring='r2')\n",
    "results_boost = search_boost.fit(X_train,y_train.values)\n",
    "print('Best Score: %s' % results_boost.best_score_)\n",
    "print('Best Hyperparameters: %s' % results_boost.best_params_)"
   ]
  },
  {
   "cell_type": "markdown",
   "metadata": {},
   "source": [
    "We want to make sure that we save our models.  In the old days, one just simply pickled (serialized) the model.  Now, however, certain model types have their own save format.  If the model is from sklearn, it can be pickled, if it's xgboost, for example, the newest format to save it in is JSON, but it can also be pickled.  It's a good idea to stay with the most current methods. \n",
    "- you may want to create a new `models/` subdirectory in your repo to stay organized"
   ]
  },
  {
   "cell_type": "code",
   "execution_count": 13,
   "metadata": {},
   "outputs": [],
   "source": [
    "# save your best model here"
   ]
  },
  {
   "cell_type": "markdown",
   "metadata": {},
   "source": [
    "## Building a Pipeline (Stretch)\n",
    "\n",
    "> **This step doesn't need to be part of your Minimum Viable Product (MVP), but its highly recommended you complete it if you have time!**\n",
    "\n",
    "Once you've identified which model works the best, implement a prediction pipeline to make sure that you haven't leaked any data, and that the model could be easily deployed if desired.\n",
    "- Your pipeline should load the data, process it, load your saved tuned model, and output a set of predictions\n",
    "- Assume that the new data is in the same JSON format as your original data - you can use your original data to check that the pipeline works correctly\n",
    "- Beware that a pipeline can only handle functions with fit and transform methods.\n",
    "- Classes can be used to get around this, but now sklearn has a wrapper for user defined functions.\n",
    "- You can develop your functions or classes in the notebook here, but once they are working, you should import them from `functions_variables.py` "
   ]
  },
  {
   "cell_type": "code",
   "execution_count": 14,
   "metadata": {},
   "outputs": [],
   "source": [
    "# Build pipeline here"
   ]
  },
  {
   "cell_type": "markdown",
   "metadata": {},
   "source": [
    "Pipelines come from sklearn.  When a pipeline is pickled, all of the information in the pipeline is stored with it.  For example, if we were deploying a model, and we had fit a scaler on the training data, we would want the same, already fitted scaling object to transform the new data with.  This is all stored when the pipeline is pickled.\n",
    "- save your final pipeline in your `models/` folder"
   ]
  },
  {
   "cell_type": "code",
   "execution_count": 15,
   "metadata": {},
   "outputs": [],
   "source": [
    "# save your pipeline here"
   ]
  }
 ],
 "metadata": {
  "kernelspec": {
   "display_name": "base",
   "language": "python",
   "name": "python3"
  },
  "language_info": {
   "codemirror_mode": {
    "name": "ipython",
    "version": 3
   },
   "file_extension": ".py",
   "mimetype": "text/x-python",
   "name": "python",
   "nbconvert_exporter": "python",
   "pygments_lexer": "ipython3",
   "version": "3.12.3"
  }
 },
 "nbformat": 4,
 "nbformat_minor": 2
}
